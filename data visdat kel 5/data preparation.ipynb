{
  "nbformat": 4,
  "nbformat_minor": 0,
  "metadata": {
    "colab": {
      "provenance": []
    },
    "kernelspec": {
      "name": "python3",
      "display_name": "Python 3"
    },
    "language_info": {
      "name": "python"
    }
  },
  "cells": [
    {
      "cell_type": "markdown",
      "source": [
        "---\n",
        "# **KELOMPOK 5 VISUALISASI DATA**\n"
      ],
      "metadata": {
        "id": "JCewjLlqkOzI"
      }
    },
    {
      "cell_type": "markdown",
      "source": [
        "# **TEMA : GENDER EQUALITY BERDASARKAN PARAMETER GAJI DI JEPANG**\n",
        "\n",
        "\n",
        "---\n",
        "\n"
      ],
      "metadata": {
        "id": "jH-eIYPqkc_W"
      }
    },
    {
      "cell_type": "markdown",
      "source": [
        "# **Ketua Proyek :**\n",
        "\n",
        "Safira Oktarini (1197050124)\n",
        "\n",
        "# **Anggota :**\n",
        "\n",
        "Ashrul Nashrulloh (1197050020)\n",
        "\n",
        "Fawzan Ibnu Fajar (1197050042)\n",
        "\n",
        "Khoirul Ummam (1197050059)"
      ],
      "metadata": {
        "id": "nmKrGY7Yk0nF"
      }
    },
    {
      "cell_type": "markdown",
      "source": [
        "# **Business Understanding**\n",
        "\n",
        "Business Understanding berisi mengenai pemaparan tema melalui sudut pandang objektif bisnis meliputi Latar Belakang Masalah, Identifikasi Masalah, Metode atau Pendekatan Penyelesaian Masalah, Tujuan Teknis dan Kriteria Kesuksesan. Setelah seluruh pemaparan tersebut disampaikan terdapat Timeline riset guna memberi tenggat waktu dalam mencapai hasil akhir riset."
      ],
      "metadata": {
        "id": "CB51_lHcljR6"
      }
    },
    {
      "cell_type": "markdown",
      "source": [
        "# **Latar Belakang Masalah**\n",
        "\n",
        "Diskriminasi gender dalam berbagai hal di kehidupan bermasyarakat\n",
        "menimbulkan perbedaan capaian pembangunan antara laki-laki dan\n",
        "perempuan. Jepang memiliki ekonomi terbesar ketiga di dunia berdasarkan produk domestik bruto (PDB). Meskipun demikian, ada kesenjangan upah gender yang signifikan di Jepang. Menurut Organisation for Economic Co-operation and Development (OECD) atau Organisasi untuk Kerja Sama dan Pembangunan Ekonomi, perempuan yang bekerja di Jepang memperoleh penghasilan rata-rata 22% lebih rendah daripada laki-laki pada tahun 2020. Lalu, Laporan Kesenjangan Gender Global Forum Ekonomi Dunia 2021 menempatkan Jepang di peringkat 120 dari 156 negara. Tujuan penelitian ini, yaitu untuk memprediksi upaya apa saja yang dapat dilakukan untuk menurunkan kesenjangan penghasilan perempuan di Jepang menggunakan model analisis forecasting."
      ],
      "metadata": {
        "id": "-LJbixn7muyq"
      }
    },
    {
      "cell_type": "markdown",
      "source": [
        "# **Identifikasi Masalah**\n",
        "\n",
        "Berikut merupakan identifikasi masalah dalam awal rancangan pembuatan riset Gender Equality In Japan:\n",
        "\n",
        "1. Kesenjangan penghasilan sebesar 22% yang dialami pekerja perempuan di Jepang\n",
        "2. Jepang menduduki peringkat 120 dari total 156 negara dengan kesenjangan gaji gender terbesar di dunia dari data the World Economic Forum’s pada tahun 2021.\n",
        "3. Pengaruh tenaga kerja perempuan dinilai berhubungan erat dengan kesenjangan penghasilan yang terjadi di Jepang, sehingga membutuhkan persentase peningkatkan jumlah perempuan yang masuk ke dunia kerja.\n",
        "\n",
        "\n",
        "Rumusan masalah diatas dapat diolah kembali untuk digunakan dalam menemukan hasil riset apa yang ingin diketahui. Berikut adalah wisdom yang ingin dicapai saat melakukan riset Gender Equality In Jepang:\n",
        "\n",
        "1. Mengetahui persentase tingkat kesenjangan pendapatan gender perempuan di Jepang menurut OECD\n",
        "2. Mengetahui cara penurunan tingkat kesenjangan pendapatan gender di Jepang\n",
        "3. Mengetahui berapa persentasi dibutuhkannya peningkatkan jumlah perempuan yang masuk ke dunia kerja sehingga kesenjangan penghasilan gender di Jepang dapat menurun\n",
        "4. Sehingga selanjutnya dapat merancang suatu solusi yang tepat guna memecahkan permasalahan gender pada 3 sektor diatas.\n"
      ],
      "metadata": {
        "id": "trpTTiMvqJa7"
      }
    },
    {
      "cell_type": "markdown",
      "source": [
        "# **Metode/ Pendekatan Penyelesaian Masalah**\n",
        "\n",
        "Dalam riset Gender Equality In Japan kami menggunakan metode Regresi Linier. Metode ini akan digunakan untuk menganalisis berapa rentang 'Gap' gaji berdasarkan gender di Jepang serta prediksi apa yang harus ditingkatkan untuk meminimalisir 'Gap' Gaji tersebut.\n",
        "\n",
        "Kami akan menggunakan data dari https://data.oecd.org sebagai acuan awal informasi riset kedepannya."
      ],
      "metadata": {
        "id": "nTFd3ekdqNjD"
      }
    },
    {
      "cell_type": "markdown",
      "source": [
        "# **Tujuan Teknis**\n",
        "\n",
        "Tujuan riset ini yaitu untuk mengetahui hal-hal apa saja yang menghambat kesetaraan gender ini berkembang di masyarakat; tingkat gender equality di negara Jepang dari waktu ke waktu; dan bagaimana dampak serta pengaruh apa yang mendasari keharusan adanya gender equality di suatu lingkungan."
      ],
      "metadata": {
        "id": "sQKoH7v-qhnY"
      }
    },
    {
      "cell_type": "markdown",
      "source": [
        "# **Kriteria Kesuksesan**\n",
        "Kriteria kesuksesan riset ini yaitu terjawabnya seluruh wisdom yang ada dan mendapatkan data yang membuktikan kebenaran rumusan masalah yang telah dipaparkan di atas. Dengan terjawabnya wisdom yang ada maka akan memberikan kesimpulan mengenai bagaimana penerapan gender equality di Jepang dan apa langkah yang harus dilakukan kedepannya."
      ],
      "metadata": {
        "id": "P1_X6EEMxUF-"
      }
    },
    {
      "cell_type": "markdown",
      "source": [
        "# **Timeline Mini Riset**\n",
        "\n",
        "Riset ini akan dilaksanakan selama 6 minggu mencakup data understanding hingga penyerahan artikel laporan yang dapat dirincikan kembali dengan tambahan deadline waktu sebagai berikut:\n",
        "\n",
        "Tanggal 17 November 2022\n",
        "\n",
        "\n",
        "*   Fiksasi Tema\n",
        "*   Business Understanding\n",
        "\n",
        "\n",
        "Tanggal 23 November 2022\n",
        "\n",
        "\n",
        "*   Data Understanding\n",
        "\n",
        "Tanggal 30 November 2022 (Offline)\n",
        "\n",
        "\n",
        "*   Data Preparation \n",
        "\n",
        "  Output: Dashboarding\n",
        "\n",
        "\n",
        "Tanggal 7 Desember 2022\n",
        "\n",
        "\n",
        "*   Modeling\n",
        "\n",
        "Tanggal 14 Desember 2022\n",
        "\n",
        "\n",
        "*   Modeling Evaluation\n",
        "\n",
        "Tanggal 21 Desember 2022 UAS\n",
        "\n",
        "\n",
        "*   Dashbording\n",
        "*   Machine Learning\n",
        "*   Artikel\n",
        "\n",
        "Note: Riset selanjutnya dapat menggunakan bahasa pemrograma python dan aplikasi tableau. Penulisan artikel dapat digunakan untuk event ICCED Malaysia"
      ],
      "metadata": {
        "id": "2k5n5WlpxeCV"
      }
    },
    {
      "cell_type": "markdown",
      "source": [
        "# **Data Understanding**\n",
        "\n",
        "Pada mini riset ini, kami menggunakan dataset yang bersumber dari kaggle.com. Berikut beberapa data yang akan kami gunakan :\n",
        "\n",
        "* Location             : Negara Asal\n",
        "* Indicator            : Alat Ukur Penelitian\n",
        "* Subject              : Bagian Penelitian\n",
        "* Measure              : Ukuran Penelitian\n",
        "* Frequency            : Kekerapan Jumlah \n",
        "* Time                 : Tahun Pemrosesan Data\n",
        "* Value                : Persentase Gap Gaji berdasarkan Gender\n",
        "* JAP/JPN              : Data Gender Equality di Negara Jepang\n",
        "* Average Wage         : Rata-rata Gaji\n",
        "* Female Labour        : Jumlah Ketenagakerjaan Perempuan\n",
        "* Total Labour         : Jumlah Ketenagakerjaan\n",
        "* Female Labour Ratio  : Rasio Ketenagakerjaan Perempuan"
      ],
      "metadata": {
        "id": "90zyCM8OIQcT"
      }
    }
  ]
}
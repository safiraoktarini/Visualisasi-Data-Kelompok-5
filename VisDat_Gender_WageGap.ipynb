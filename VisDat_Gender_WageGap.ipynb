{
  "cells": [
    {
      "cell_type": "markdown",
      "metadata": {
        "id": "nYUsH4TtEqbB"
      },
      "source": [
        "#**Laporan Proyek Machine Learning - Fawzan Ibnu Fajar**"
      ]
    },
    {
      "cell_type": "markdown",
      "metadata": {
        "id": "EVllK97rFEzx"
      },
      "source": [
        "# **Business Understanding**\n",
        "\n",
        "Business Understanding berisi mengenai pemaparan tema melalui sudut pandang objektif bisnis meliputi Latar Belakang Masalah, Identifikasi Masalah, Metode atau Pendekatan Penyelesaian Masalah, Tujuan Teknis dan Kriteria Kesuksesan. Setelah seluruh pemaparan tersebut disampaikan terdapat Timeline riset guna memberi tenggat waktu dalam mencapai hasil akhir riset."
      ]
    },
    {
      "cell_type": "markdown",
      "metadata": {
        "id": "xPt6xHjZE4Ln"
      },
      "source": [
        "#**Latar Belakang**\n",
        "\n",
        "Diskriminasi gender dalam berbagai hal di kehidupan bermasyarakat\n",
        "menimbulkan perbedaan capaian pembangunan antara laki-laki dan\n",
        "perempuan. Jepang memiliki ekonomi terbesar ketiga di dunia berdasarkan produk domestik bruto (PDB). Meskipun demikian, ada kesenjangan upah gender yang signifikan di Jepang. Menurut Organisation for Economic Co-operation and Development (OECD) atau Organisasi untuk Kerja Sama dan Pembangunan Ekonomi, perempuan yang bekerja di Jepang memperoleh penghasilan rata-rata 22% lebih rendah daripada laki-laki pada tahun 2020. Lalu, Laporan Kesenjangan Gender Global Forum Ekonomi Dunia 2021 menempatkan Jepang di peringkat 120 dari 156 negara. Tujuan penelitian ini, yaitu untuk memprediksi upaya apa saja yang dapat dilakukan untuk menurunkan kesenjangan penghasilan perempuan di Jepang menggunakan model analisis forecasting."
      ]
    },
    {
      "cell_type": "markdown",
      "metadata": {
        "id": "A2D2igm-FHiL"
      },
      "source": [
        "# **Identifikasi Masalah**\n",
        "\n",
        "Berikut merupakan identifikasi masalah dalam awal rancangan pembuatan riset Gender Equality In Japan:\n",
        "\n",
        "1. Kesenjangan penghasilan sebesar 22% yang dialami pekerja perempuan di Jepang\n",
        "2. Jepang menduduki peringkat 120 dari total 156 negara dengan kesenjangan gaji gender terbesar di dunia dari data the World Economic Forum’s pada tahun 2021.\n",
        "3. Pengaruh tenaga kerja perempuan dinilai berhubungan erat dengan kesenjangan penghasilan yang terjadi di Jepang, sehingga membutuhkan persentase peningkatkan jumlah perempuan yang masuk ke dunia kerja.\n",
        "\n",
        "\n",
        "Rumusan masalah diatas dapat diolah kembali untuk digunakan dalam menemukan hasil riset apa yang ingin diketahui. Berikut adalah wisdom yang ingin dicapai saat melakukan riset Gender Equality In Jepang:\n",
        "\n",
        "1. Mengetahui persentase tingkat kesenjangan pendapatan gender perempuan di Jepang menurut OECD\n",
        "2. Mengetahui cara penurunan tingkat kesenjangan pendapatan gender di Jepang\n",
        "3. Mengetahui berapa persentasi dibutuhkannya peningkatkan jumlah perempuan yang masuk ke dunia kerja sehingga kesenjangan penghasilan gender di Jepang dapat menurun\n",
        "4. Sehingga selanjutnya dapat merancang suatu solusi yang tepat guna memecahkan permasalahan gender pada 3 sektor diatas.\n"
      ]
    },
    {
      "cell_type": "markdown",
      "metadata": {
        "id": "m_ExlJhKFVmg"
      },
      "source": [
        "# **Metode/ Pendekatan Penyelesaian Masalah**\n",
        "\n",
        "Dalam riset Gender Equality In Japan saya menggunakan metode Regresi Linier. Metode ini akan digunakan untuk menganalisis berapa rentang 'Gap' gaji berdasarkan gender di Jepang serta prediksi apa yang harus ditingkatkan untuk meminimalisir 'Gap' Gaji tersebut.\n",
        "\n",
        "Saya akan menggunakan data dari https://data.oecd.org sebagai acuan awal informasi riset kedepannya."
      ]
    },
    {
      "cell_type": "markdown",
      "metadata": {
        "id": "BhaJMRB6FQIJ"
      },
      "source": [
        "# **Data Understanding**\n",
        "\n",
        "Pada mini riset ini, saya menggunakan dataset yang bersumber dari https://data.oecd.org. Berikut beberapa data yang akan saya gunakan :\n",
        "\n",
        "* Location             : Negara Asal\n",
        "* Indicator            : Alat Ukur Penelitian\n",
        "* Subject              : Bagian Penelitian\n",
        "* Measure              : Ukuran Penelitian\n",
        "* Frequency            : Kekerapan Jumlah \n",
        "* Time                 : Tahun Pemrosesan Data\n",
        "* Value                : Persentase Gap Gaji berdasarkan Gender\n",
        "* JAP/JPN              : Data Gender Equality di Negara Jepang\n",
        "* Average Wage         : Rata-rata Gaji\n",
        "* Female Labour        : Jumlah Ketenagakerjaan Perempuan\n",
        "* Total Labour         : Jumlah Ketenagakerjaan\n",
        "* Female Labour Ratio  : Rasio Ketenagakerjaan Perempuan\n",
        "\n",
        "Jumlah row sebanyak 1245 baris"
      ]
    },
    {
      "cell_type": "code",
      "execution_count": 1,
      "metadata": {
        "id": "7hT4xpHlFXU1"
      },
      "outputs": [],
      "source": [
        "import numpy as np # linear algebra\n",
        "import pandas as pd # data processing, CSV file I/O (e.g. pd.read_csv)\n",
        "\n",
        "import os"
      ]
    },
    {
      "cell_type": "code",
      "execution_count": 2,
      "metadata": {
        "colab": {
          "base_uri": "https://localhost:8080/"
        },
        "id": "zVVa5u1oFafM",
        "outputId": "85585371-dde8-4d28-ec81-d9dc5e3862bc"
      },
      "outputs": [
        {
          "name": "stdout",
          "output_type": "stream",
          "text": [
            "Looking in indexes: https://pypi.org/simple, https://us-python.pkg.dev/colab-wheels/public/simple/\n",
            "Collecting plotly_express\n",
            "  Downloading plotly_express-0.4.1-py2.py3-none-any.whl (2.9 kB)\n",
            "Requirement already satisfied: pandas>=0.20.0 in /usr/local/lib/python3.8/dist-packages (from plotly_express) (1.3.5)\n",
            "Requirement already satisfied: plotly>=4.1.0 in /usr/local/lib/python3.8/dist-packages (from plotly_express) (5.5.0)\n",
            "Requirement already satisfied: scipy>=0.18 in /usr/local/lib/python3.8/dist-packages (from plotly_express) (1.7.3)\n",
            "Requirement already satisfied: patsy>=0.5 in /usr/local/lib/python3.8/dist-packages (from plotly_express) (0.5.3)\n",
            "Requirement already satisfied: numpy>=1.11 in /usr/local/lib/python3.8/dist-packages (from plotly_express) (1.21.6)\n",
            "Requirement already satisfied: statsmodels>=0.9.0 in /usr/local/lib/python3.8/dist-packages (from plotly_express) (0.12.2)\n",
            "Requirement already satisfied: pytz>=2017.3 in /usr/local/lib/python3.8/dist-packages (from pandas>=0.20.0->plotly_express) (2022.6)\n",
            "Requirement already satisfied: python-dateutil>=2.7.3 in /usr/local/lib/python3.8/dist-packages (from pandas>=0.20.0->plotly_express) (2.8.2)\n",
            "Requirement already satisfied: six in /usr/local/lib/python3.8/dist-packages (from patsy>=0.5->plotly_express) (1.15.0)\n",
            "Requirement already satisfied: tenacity>=6.2.0 in /usr/local/lib/python3.8/dist-packages (from plotly>=4.1.0->plotly_express) (8.1.0)\n",
            "Installing collected packages: plotly-express\n",
            "Successfully installed plotly-express-0.4.1\n"
          ]
        }
      ],
      "source": [
        "!pip install plotly_express"
      ]
    },
    {
      "cell_type": "code",
      "execution_count": 4,
      "metadata": {
        "colab": {
          "base_uri": "https://localhost:8080/"
        },
        "id": "fLJmzxgkFqE0",
        "outputId": "eb4046b6-042d-4edc-ad91-d5e44496794d"
      },
      "outputs": [
        {
          "name": "stdout",
          "output_type": "stream",
          "text": [
            "Looking in indexes: https://pypi.org/simple, https://us-python.pkg.dev/colab-wheels/public/simple/\n",
            "Collecting geopandas\n",
            "  Downloading geopandas-0.12.1-py3-none-any.whl (1.1 MB)\n",
            "\u001b[K     |████████████████████████████████| 1.1 MB 4.8 MB/s \n",
            "\u001b[?25hCollecting fiona>=1.8\n",
            "  Downloading Fiona-1.8.22-cp38-cp38-manylinux_2_17_x86_64.manylinux2014_x86_64.whl (16.6 MB)\n",
            "\u001b[K     |████████████████████████████████| 16.6 MB 137 kB/s \n",
            "\u001b[?25hRequirement already satisfied: packaging in /usr/local/lib/python3.8/dist-packages (from geopandas) (21.3)\n",
            "Collecting pyproj>=2.6.1.post1\n",
            "  Downloading pyproj-3.4.0-cp38-cp38-manylinux_2_17_x86_64.manylinux2014_x86_64.whl (7.8 MB)\n",
            "\u001b[K     |████████████████████████████████| 7.8 MB 21.7 MB/s \n",
            "\u001b[?25hRequirement already satisfied: shapely>=1.7 in /usr/local/lib/python3.8/dist-packages (from geopandas) (1.8.5.post1)\n",
            "Requirement already satisfied: pandas>=1.0.0 in /usr/local/lib/python3.8/dist-packages (from geopandas) (1.3.5)\n",
            "Requirement already satisfied: attrs>=17 in /usr/local/lib/python3.8/dist-packages (from fiona>=1.8->geopandas) (22.1.0)\n",
            "Collecting click-plugins>=1.0\n",
            "  Downloading click_plugins-1.1.1-py2.py3-none-any.whl (7.5 kB)\n",
            "Collecting cligj>=0.5\n",
            "  Downloading cligj-0.7.2-py3-none-any.whl (7.1 kB)\n",
            "Requirement already satisfied: click>=4.0 in /usr/local/lib/python3.8/dist-packages (from fiona>=1.8->geopandas) (7.1.2)\n",
            "Requirement already satisfied: certifi in /usr/local/lib/python3.8/dist-packages (from fiona>=1.8->geopandas) (2022.9.24)\n",
            "Requirement already satisfied: setuptools in /usr/local/lib/python3.8/dist-packages (from fiona>=1.8->geopandas) (57.4.0)\n",
            "Requirement already satisfied: six>=1.7 in /usr/local/lib/python3.8/dist-packages (from fiona>=1.8->geopandas) (1.15.0)\n",
            "Collecting munch\n",
            "  Downloading munch-2.5.0-py2.py3-none-any.whl (10 kB)\n",
            "Requirement already satisfied: pytz>=2017.3 in /usr/local/lib/python3.8/dist-packages (from pandas>=1.0.0->geopandas) (2022.6)\n",
            "Requirement already satisfied: numpy>=1.17.3 in /usr/local/lib/python3.8/dist-packages (from pandas>=1.0.0->geopandas) (1.21.6)\n",
            "Requirement already satisfied: python-dateutil>=2.7.3 in /usr/local/lib/python3.8/dist-packages (from pandas>=1.0.0->geopandas) (2.8.2)\n",
            "Requirement already satisfied: pyparsing!=3.0.5,>=2.0.2 in /usr/local/lib/python3.8/dist-packages (from packaging->geopandas) (3.0.9)\n",
            "Installing collected packages: munch, cligj, click-plugins, pyproj, fiona, geopandas\n",
            "Successfully installed click-plugins-1.1.1 cligj-0.7.2 fiona-1.8.22 geopandas-0.12.1 munch-2.5.0 pyproj-3.4.0\n"
          ]
        }
      ],
      "source": [
        "!pip install geopandas"
      ]
    },
    {
      "cell_type": "code",
      "execution_count": 5,
      "metadata": {
        "id": "6q3vPwEaFanL"
      },
      "outputs": [],
      "source": [
        "import matplotlib.pyplot as plt\n",
        "import seaborn as sns\n",
        "import plotly_express as px\n",
        "import geopandas as gpd\n",
        "import plotly.graph_objects as go\n",
        "\n",
        "%matplotlib inline"
      ]
    },
    {
      "cell_type": "code",
      "execution_count": 8,
      "metadata": {
        "colab": {
          "base_uri": "https://localhost:8080/",
          "height": 424
        },
        "id": "g60Ns0qkFaqL",
        "outputId": "d6294da1-082e-43ee-9f47-afda9baeb384"
      },
      "outputs": [
        {
          "data": {
            "text/html": [
              "\n",
              "  <div id=\"df-482528b5-2b09-4431-a378-9c9d2e096786\">\n",
              "    <div class=\"colab-df-container\">\n",
              "      <div>\n",
              "<style scoped>\n",
              "    .dataframe tbody tr th:only-of-type {\n",
              "        vertical-align: middle;\n",
              "    }\n",
              "\n",
              "    .dataframe tbody tr th {\n",
              "        vertical-align: top;\n",
              "    }\n",
              "\n",
              "    .dataframe thead th {\n",
              "        text-align: right;\n",
              "    }\n",
              "</style>\n",
              "<table border=\"1\" class=\"dataframe\">\n",
              "  <thead>\n",
              "    <tr style=\"text-align: right;\">\n",
              "      <th></th>\n",
              "      <th>LOCATION</th>\n",
              "      <th>INDICATOR</th>\n",
              "      <th>SUBJECT</th>\n",
              "      <th>MEASURE</th>\n",
              "      <th>FREQUENCY</th>\n",
              "      <th>TIME</th>\n",
              "      <th>Value</th>\n",
              "      <th>Flag Codes</th>\n",
              "    </tr>\n",
              "  </thead>\n",
              "  <tbody>\n",
              "    <tr>\n",
              "      <th>0</th>\n",
              "      <td>AUS</td>\n",
              "      <td>WAGEGAP</td>\n",
              "      <td>EMPLOYEE</td>\n",
              "      <td>PC</td>\n",
              "      <td>A</td>\n",
              "      <td>1975</td>\n",
              "      <td>21.582734</td>\n",
              "      <td>NaN</td>\n",
              "    </tr>\n",
              "    <tr>\n",
              "      <th>1</th>\n",
              "      <td>AUS</td>\n",
              "      <td>WAGEGAP</td>\n",
              "      <td>EMPLOYEE</td>\n",
              "      <td>PC</td>\n",
              "      <td>A</td>\n",
              "      <td>1976</td>\n",
              "      <td>20.754717</td>\n",
              "      <td>NaN</td>\n",
              "    </tr>\n",
              "    <tr>\n",
              "      <th>2</th>\n",
              "      <td>AUS</td>\n",
              "      <td>WAGEGAP</td>\n",
              "      <td>EMPLOYEE</td>\n",
              "      <td>PC</td>\n",
              "      <td>A</td>\n",
              "      <td>1977</td>\n",
              "      <td>18.390805</td>\n",
              "      <td>NaN</td>\n",
              "    </tr>\n",
              "    <tr>\n",
              "      <th>3</th>\n",
              "      <td>AUS</td>\n",
              "      <td>WAGEGAP</td>\n",
              "      <td>EMPLOYEE</td>\n",
              "      <td>PC</td>\n",
              "      <td>A</td>\n",
              "      <td>1978</td>\n",
              "      <td>19.791667</td>\n",
              "      <td>NaN</td>\n",
              "    </tr>\n",
              "    <tr>\n",
              "      <th>4</th>\n",
              "      <td>AUS</td>\n",
              "      <td>WAGEGAP</td>\n",
              "      <td>EMPLOYEE</td>\n",
              "      <td>PC</td>\n",
              "      <td>A</td>\n",
              "      <td>1979</td>\n",
              "      <td>20.000000</td>\n",
              "      <td>NaN</td>\n",
              "    </tr>\n",
              "    <tr>\n",
              "      <th>...</th>\n",
              "      <td>...</td>\n",
              "      <td>...</td>\n",
              "      <td>...</td>\n",
              "      <td>...</td>\n",
              "      <td>...</td>\n",
              "      <td>...</td>\n",
              "      <td>...</td>\n",
              "      <td>...</td>\n",
              "    </tr>\n",
              "    <tr>\n",
              "      <th>1239</th>\n",
              "      <td>BRA</td>\n",
              "      <td>WAGEGAP</td>\n",
              "      <td>EMPLOYEE</td>\n",
              "      <td>PC</td>\n",
              "      <td>A</td>\n",
              "      <td>2017</td>\n",
              "      <td>13.333333</td>\n",
              "      <td>NaN</td>\n",
              "    </tr>\n",
              "    <tr>\n",
              "      <th>1240</th>\n",
              "      <td>BRA</td>\n",
              "      <td>WAGEGAP</td>\n",
              "      <td>EMPLOYEE</td>\n",
              "      <td>PC</td>\n",
              "      <td>A</td>\n",
              "      <td>2018</td>\n",
              "      <td>10.666667</td>\n",
              "      <td>NaN</td>\n",
              "    </tr>\n",
              "    <tr>\n",
              "      <th>1241</th>\n",
              "      <td>BRA</td>\n",
              "      <td>WAGEGAP</td>\n",
              "      <td>EMPLOYEE</td>\n",
              "      <td>PC</td>\n",
              "      <td>A</td>\n",
              "      <td>2019</td>\n",
              "      <td>6.666667</td>\n",
              "      <td>NaN</td>\n",
              "    </tr>\n",
              "    <tr>\n",
              "      <th>1242</th>\n",
              "      <td>BRA</td>\n",
              "      <td>WAGEGAP</td>\n",
              "      <td>EMPLOYEE</td>\n",
              "      <td>PC</td>\n",
              "      <td>A</td>\n",
              "      <td>2020</td>\n",
              "      <td>6.250000</td>\n",
              "      <td>NaN</td>\n",
              "    </tr>\n",
              "    <tr>\n",
              "      <th>1243</th>\n",
              "      <td>BRA</td>\n",
              "      <td>WAGEGAP</td>\n",
              "      <td>EMPLOYEE</td>\n",
              "      <td>PC</td>\n",
              "      <td>A</td>\n",
              "      <td>2021</td>\n",
              "      <td>9.090909</td>\n",
              "      <td>NaN</td>\n",
              "    </tr>\n",
              "  </tbody>\n",
              "</table>\n",
              "<p>1244 rows × 8 columns</p>\n",
              "</div>\n",
              "      <button class=\"colab-df-convert\" onclick=\"convertToInteractive('df-482528b5-2b09-4431-a378-9c9d2e096786')\"\n",
              "              title=\"Convert this dataframe to an interactive table.\"\n",
              "              style=\"display:none;\">\n",
              "        \n",
              "  <svg xmlns=\"http://www.w3.org/2000/svg\" height=\"24px\"viewBox=\"0 0 24 24\"\n",
              "       width=\"24px\">\n",
              "    <path d=\"M0 0h24v24H0V0z\" fill=\"none\"/>\n",
              "    <path d=\"M18.56 5.44l.94 2.06.94-2.06 2.06-.94-2.06-.94-.94-2.06-.94 2.06-2.06.94zm-11 1L8.5 8.5l.94-2.06 2.06-.94-2.06-.94L8.5 2.5l-.94 2.06-2.06.94zm10 10l.94 2.06.94-2.06 2.06-.94-2.06-.94-.94-2.06-.94 2.06-2.06.94z\"/><path d=\"M17.41 7.96l-1.37-1.37c-.4-.4-.92-.59-1.43-.59-.52 0-1.04.2-1.43.59L10.3 9.45l-7.72 7.72c-.78.78-.78 2.05 0 2.83L4 21.41c.39.39.9.59 1.41.59.51 0 1.02-.2 1.41-.59l7.78-7.78 2.81-2.81c.8-.78.8-2.07 0-2.86zM5.41 20L4 18.59l7.72-7.72 1.47 1.35L5.41 20z\"/>\n",
              "  </svg>\n",
              "      </button>\n",
              "      \n",
              "  <style>\n",
              "    .colab-df-container {\n",
              "      display:flex;\n",
              "      flex-wrap:wrap;\n",
              "      gap: 12px;\n",
              "    }\n",
              "\n",
              "    .colab-df-convert {\n",
              "      background-color: #E8F0FE;\n",
              "      border: none;\n",
              "      border-radius: 50%;\n",
              "      cursor: pointer;\n",
              "      display: none;\n",
              "      fill: #1967D2;\n",
              "      height: 32px;\n",
              "      padding: 0 0 0 0;\n",
              "      width: 32px;\n",
              "    }\n",
              "\n",
              "    .colab-df-convert:hover {\n",
              "      background-color: #E2EBFA;\n",
              "      box-shadow: 0px 1px 2px rgba(60, 64, 67, 0.3), 0px 1px 3px 1px rgba(60, 64, 67, 0.15);\n",
              "      fill: #174EA6;\n",
              "    }\n",
              "\n",
              "    [theme=dark] .colab-df-convert {\n",
              "      background-color: #3B4455;\n",
              "      fill: #D2E3FC;\n",
              "    }\n",
              "\n",
              "    [theme=dark] .colab-df-convert:hover {\n",
              "      background-color: #434B5C;\n",
              "      box-shadow: 0px 1px 3px 1px rgba(0, 0, 0, 0.15);\n",
              "      filter: drop-shadow(0px 1px 2px rgba(0, 0, 0, 0.3));\n",
              "      fill: #FFFFFF;\n",
              "    }\n",
              "  </style>\n",
              "\n",
              "      <script>\n",
              "        const buttonEl =\n",
              "          document.querySelector('#df-482528b5-2b09-4431-a378-9c9d2e096786 button.colab-df-convert');\n",
              "        buttonEl.style.display =\n",
              "          google.colab.kernel.accessAllowed ? 'block' : 'none';\n",
              "\n",
              "        async function convertToInteractive(key) {\n",
              "          const element = document.querySelector('#df-482528b5-2b09-4431-a378-9c9d2e096786');\n",
              "          const dataTable =\n",
              "            await google.colab.kernel.invokeFunction('convertToInteractive',\n",
              "                                                     [key], {});\n",
              "          if (!dataTable) return;\n",
              "\n",
              "          const docLinkHtml = 'Like what you see? Visit the ' +\n",
              "            '<a target=\"_blank\" href=https://colab.research.google.com/notebooks/data_table.ipynb>data table notebook</a>'\n",
              "            + ' to learn more about interactive tables.';\n",
              "          element.innerHTML = '';\n",
              "          dataTable['output_type'] = 'display_data';\n",
              "          await google.colab.output.renderOutput(dataTable, element);\n",
              "          const docLink = document.createElement('div');\n",
              "          docLink.innerHTML = docLinkHtml;\n",
              "          element.appendChild(docLink);\n",
              "        }\n",
              "      </script>\n",
              "    </div>\n",
              "  </div>\n",
              "  "
            ],
            "text/plain": [
              "     LOCATION INDICATOR   SUBJECT MEASURE FREQUENCY  TIME      Value  \\\n",
              "0         AUS   WAGEGAP  EMPLOYEE      PC         A  1975  21.582734   \n",
              "1         AUS   WAGEGAP  EMPLOYEE      PC         A  1976  20.754717   \n",
              "2         AUS   WAGEGAP  EMPLOYEE      PC         A  1977  18.390805   \n",
              "3         AUS   WAGEGAP  EMPLOYEE      PC         A  1978  19.791667   \n",
              "4         AUS   WAGEGAP  EMPLOYEE      PC         A  1979  20.000000   \n",
              "...       ...       ...       ...     ...       ...   ...        ...   \n",
              "1239      BRA   WAGEGAP  EMPLOYEE      PC         A  2017  13.333333   \n",
              "1240      BRA   WAGEGAP  EMPLOYEE      PC         A  2018  10.666667   \n",
              "1241      BRA   WAGEGAP  EMPLOYEE      PC         A  2019   6.666667   \n",
              "1242      BRA   WAGEGAP  EMPLOYEE      PC         A  2020   6.250000   \n",
              "1243      BRA   WAGEGAP  EMPLOYEE      PC         A  2021   9.090909   \n",
              "\n",
              "     Flag Codes  \n",
              "0           NaN  \n",
              "1           NaN  \n",
              "2           NaN  \n",
              "3           NaN  \n",
              "4           NaN  \n",
              "...         ...  \n",
              "1239        NaN  \n",
              "1240        NaN  \n",
              "1241        NaN  \n",
              "1242        NaN  \n",
              "1243        NaN  \n",
              "\n",
              "[1244 rows x 8 columns]"
            ]
          },
          "execution_count": 8,
          "metadata": {},
          "output_type": "execute_result"
        }
      ],
      "source": [
        "url = 'https://raw.githubusercontent.com/FawzanIF/japan_wagegap/main/gap.csv'\n",
        "df = pd.read_csv(url)\n",
        "df"
      ]
    },
    {
      "cell_type": "code",
      "execution_count": 9,
      "metadata": {
        "colab": {
          "base_uri": "https://localhost:8080/",
          "height": 206
        },
        "id": "2icrAgXsGETl",
        "outputId": "ec4e3c93-bc20-4f04-fd0f-45ed9d0f1401"
      },
      "outputs": [
        {
          "data": {
            "text/html": [
              "\n",
              "  <div id=\"df-55e5b693-705f-4bb2-8db6-cfbca929feb5\">\n",
              "    <div class=\"colab-df-container\">\n",
              "      <div>\n",
              "<style scoped>\n",
              "    .dataframe tbody tr th:only-of-type {\n",
              "        vertical-align: middle;\n",
              "    }\n",
              "\n",
              "    .dataframe tbody tr th {\n",
              "        vertical-align: top;\n",
              "    }\n",
              "\n",
              "    .dataframe thead th {\n",
              "        text-align: right;\n",
              "    }\n",
              "</style>\n",
              "<table border=\"1\" class=\"dataframe\">\n",
              "  <thead>\n",
              "    <tr style=\"text-align: right;\">\n",
              "      <th></th>\n",
              "      <th>location</th>\n",
              "      <th>indicator</th>\n",
              "      <th>subject</th>\n",
              "      <th>measure</th>\n",
              "      <th>frequency</th>\n",
              "      <th>time</th>\n",
              "      <th>value</th>\n",
              "    </tr>\n",
              "  </thead>\n",
              "  <tbody>\n",
              "    <tr>\n",
              "      <th>0</th>\n",
              "      <td>AUS</td>\n",
              "      <td>WAGEGAP</td>\n",
              "      <td>EMPLOYEE</td>\n",
              "      <td>PC</td>\n",
              "      <td>A</td>\n",
              "      <td>1975</td>\n",
              "      <td>21.582734</td>\n",
              "    </tr>\n",
              "    <tr>\n",
              "      <th>1</th>\n",
              "      <td>AUS</td>\n",
              "      <td>WAGEGAP</td>\n",
              "      <td>EMPLOYEE</td>\n",
              "      <td>PC</td>\n",
              "      <td>A</td>\n",
              "      <td>1976</td>\n",
              "      <td>20.754717</td>\n",
              "    </tr>\n",
              "    <tr>\n",
              "      <th>2</th>\n",
              "      <td>AUS</td>\n",
              "      <td>WAGEGAP</td>\n",
              "      <td>EMPLOYEE</td>\n",
              "      <td>PC</td>\n",
              "      <td>A</td>\n",
              "      <td>1977</td>\n",
              "      <td>18.390805</td>\n",
              "    </tr>\n",
              "    <tr>\n",
              "      <th>3</th>\n",
              "      <td>AUS</td>\n",
              "      <td>WAGEGAP</td>\n",
              "      <td>EMPLOYEE</td>\n",
              "      <td>PC</td>\n",
              "      <td>A</td>\n",
              "      <td>1978</td>\n",
              "      <td>19.791667</td>\n",
              "    </tr>\n",
              "    <tr>\n",
              "      <th>4</th>\n",
              "      <td>AUS</td>\n",
              "      <td>WAGEGAP</td>\n",
              "      <td>EMPLOYEE</td>\n",
              "      <td>PC</td>\n",
              "      <td>A</td>\n",
              "      <td>1979</td>\n",
              "      <td>20.000000</td>\n",
              "    </tr>\n",
              "  </tbody>\n",
              "</table>\n",
              "</div>\n",
              "      <button class=\"colab-df-convert\" onclick=\"convertToInteractive('df-55e5b693-705f-4bb2-8db6-cfbca929feb5')\"\n",
              "              title=\"Convert this dataframe to an interactive table.\"\n",
              "              style=\"display:none;\">\n",
              "        \n",
              "  <svg xmlns=\"http://www.w3.org/2000/svg\" height=\"24px\"viewBox=\"0 0 24 24\"\n",
              "       width=\"24px\">\n",
              "    <path d=\"M0 0h24v24H0V0z\" fill=\"none\"/>\n",
              "    <path d=\"M18.56 5.44l.94 2.06.94-2.06 2.06-.94-2.06-.94-.94-2.06-.94 2.06-2.06.94zm-11 1L8.5 8.5l.94-2.06 2.06-.94-2.06-.94L8.5 2.5l-.94 2.06-2.06.94zm10 10l.94 2.06.94-2.06 2.06-.94-2.06-.94-.94-2.06-.94 2.06-2.06.94z\"/><path d=\"M17.41 7.96l-1.37-1.37c-.4-.4-.92-.59-1.43-.59-.52 0-1.04.2-1.43.59L10.3 9.45l-7.72 7.72c-.78.78-.78 2.05 0 2.83L4 21.41c.39.39.9.59 1.41.59.51 0 1.02-.2 1.41-.59l7.78-7.78 2.81-2.81c.8-.78.8-2.07 0-2.86zM5.41 20L4 18.59l7.72-7.72 1.47 1.35L5.41 20z\"/>\n",
              "  </svg>\n",
              "      </button>\n",
              "      \n",
              "  <style>\n",
              "    .colab-df-container {\n",
              "      display:flex;\n",
              "      flex-wrap:wrap;\n",
              "      gap: 12px;\n",
              "    }\n",
              "\n",
              "    .colab-df-convert {\n",
              "      background-color: #E8F0FE;\n",
              "      border: none;\n",
              "      border-radius: 50%;\n",
              "      cursor: pointer;\n",
              "      display: none;\n",
              "      fill: #1967D2;\n",
              "      height: 32px;\n",
              "      padding: 0 0 0 0;\n",
              "      width: 32px;\n",
              "    }\n",
              "\n",
              "    .colab-df-convert:hover {\n",
              "      background-color: #E2EBFA;\n",
              "      box-shadow: 0px 1px 2px rgba(60, 64, 67, 0.3), 0px 1px 3px 1px rgba(60, 64, 67, 0.15);\n",
              "      fill: #174EA6;\n",
              "    }\n",
              "\n",
              "    [theme=dark] .colab-df-convert {\n",
              "      background-color: #3B4455;\n",
              "      fill: #D2E3FC;\n",
              "    }\n",
              "\n",
              "    [theme=dark] .colab-df-convert:hover {\n",
              "      background-color: #434B5C;\n",
              "      box-shadow: 0px 1px 3px 1px rgba(0, 0, 0, 0.15);\n",
              "      filter: drop-shadow(0px 1px 2px rgba(0, 0, 0, 0.3));\n",
              "      fill: #FFFFFF;\n",
              "    }\n",
              "  </style>\n",
              "\n",
              "      <script>\n",
              "        const buttonEl =\n",
              "          document.querySelector('#df-55e5b693-705f-4bb2-8db6-cfbca929feb5 button.colab-df-convert');\n",
              "        buttonEl.style.display =\n",
              "          google.colab.kernel.accessAllowed ? 'block' : 'none';\n",
              "\n",
              "        async function convertToInteractive(key) {\n",
              "          const element = document.querySelector('#df-55e5b693-705f-4bb2-8db6-cfbca929feb5');\n",
              "          const dataTable =\n",
              "            await google.colab.kernel.invokeFunction('convertToInteractive',\n",
              "                                                     [key], {});\n",
              "          if (!dataTable) return;\n",
              "\n",
              "          const docLinkHtml = 'Like what you see? Visit the ' +\n",
              "            '<a target=\"_blank\" href=https://colab.research.google.com/notebooks/data_table.ipynb>data table notebook</a>'\n",
              "            + ' to learn more about interactive tables.';\n",
              "          element.innerHTML = '';\n",
              "          dataTable['output_type'] = 'display_data';\n",
              "          await google.colab.output.renderOutput(dataTable, element);\n",
              "          const docLink = document.createElement('div');\n",
              "          docLink.innerHTML = docLinkHtml;\n",
              "          element.appendChild(docLink);\n",
              "        }\n",
              "      </script>\n",
              "    </div>\n",
              "  </div>\n",
              "  "
            ],
            "text/plain": [
              "  location indicator   subject measure frequency  time      value\n",
              "0      AUS   WAGEGAP  EMPLOYEE      PC         A  1975  21.582734\n",
              "1      AUS   WAGEGAP  EMPLOYEE      PC         A  1976  20.754717\n",
              "2      AUS   WAGEGAP  EMPLOYEE      PC         A  1977  18.390805\n",
              "3      AUS   WAGEGAP  EMPLOYEE      PC         A  1978  19.791667\n",
              "4      AUS   WAGEGAP  EMPLOYEE      PC         A  1979  20.000000"
            ]
          },
          "execution_count": 9,
          "metadata": {},
          "output_type": "execute_result"
        }
      ],
      "source": [
        "df = df.drop('Flag Codes', axis=1)\n",
        "df.columns= df.columns.str.lower()\n",
        "df.head()"
      ]
    },
    {
      "cell_type": "code",
      "execution_count": 10,
      "metadata": {
        "colab": {
          "base_uri": "https://localhost:8080/"
        },
        "id": "b1RqNeSjGqlK",
        "outputId": "1edb7eb0-9647-4c1c-ea8e-9cbd2d7611f5"
      },
      "outputs": [
        {
          "name": "stdout",
          "output_type": "stream",
          "text": [
            "<class 'pandas.core.frame.DataFrame'>\n",
            "RangeIndex: 1244 entries, 0 to 1243\n",
            "Data columns (total 7 columns):\n",
            " #   Column     Non-Null Count  Dtype  \n",
            "---  ------     --------------  -----  \n",
            " 0   location   1244 non-null   object \n",
            " 1   indicator  1244 non-null   object \n",
            " 2   subject    1244 non-null   object \n",
            " 3   measure    1244 non-null   object \n",
            " 4   frequency  1244 non-null   object \n",
            " 5   time       1244 non-null   int64  \n",
            " 6   value      1244 non-null   float64\n",
            "dtypes: float64(1), int64(1), object(5)\n",
            "memory usage: 68.2+ KB\n"
          ]
        }
      ],
      "source": [
        "df.info()"
      ]
    },
    {
      "cell_type": "code",
      "execution_count": 11,
      "metadata": {
        "id": "hhyliADgGuo8"
      },
      "outputs": [],
      "source": [
        "df['value'] = df['value'].astype(str)"
      ]
    },
    {
      "cell_type": "code",
      "execution_count": 12,
      "metadata": {
        "colab": {
          "base_uri": "https://localhost:8080/",
          "height": 480
        },
        "id": "QLQN56GoGxCc",
        "outputId": "cf6e771b-420d-4dc7-b69e-c25a19c6f6b9"
      },
      "outputs": [
        {
          "name": "stderr",
          "output_type": "stream",
          "text": [
            "<ipython-input-12-d979f2bad6dd>:1: FutureWarning: The default value of regex will change from True to False in a future version. In addition, single character regular expressions will *not* be treated as literal strings when regex=True.\n",
            "  df['value']=df['value'].str.replace(\".\", \"\")\n"
          ]
        },
        {
          "data": {
            "text/html": [
              "\n",
              "  <div id=\"df-5cc67567-c038-49e4-90f3-2ceb629d6b18\">\n",
              "    <div class=\"colab-df-container\">\n",
              "      <div>\n",
              "<style scoped>\n",
              "    .dataframe tbody tr th:only-of-type {\n",
              "        vertical-align: middle;\n",
              "    }\n",
              "\n",
              "    .dataframe tbody tr th {\n",
              "        vertical-align: top;\n",
              "    }\n",
              "\n",
              "    .dataframe thead th {\n",
              "        text-align: right;\n",
              "    }\n",
              "</style>\n",
              "<table border=\"1\" class=\"dataframe\">\n",
              "  <thead>\n",
              "    <tr style=\"text-align: right;\">\n",
              "      <th></th>\n",
              "      <th>location</th>\n",
              "      <th>indicator</th>\n",
              "      <th>subject</th>\n",
              "      <th>measure</th>\n",
              "      <th>frequency</th>\n",
              "      <th>time</th>\n",
              "      <th>value</th>\n",
              "    </tr>\n",
              "  </thead>\n",
              "  <tbody>\n",
              "    <tr>\n",
              "      <th>0</th>\n",
              "      <td>AUS</td>\n",
              "      <td>WAGEGAP</td>\n",
              "      <td>EMPLOYEE</td>\n",
              "      <td>PC</td>\n",
              "      <td>A</td>\n",
              "      <td>1975</td>\n",
              "      <td>21.0</td>\n",
              "    </tr>\n",
              "    <tr>\n",
              "      <th>1</th>\n",
              "      <td>AUS</td>\n",
              "      <td>WAGEGAP</td>\n",
              "      <td>EMPLOYEE</td>\n",
              "      <td>PC</td>\n",
              "      <td>A</td>\n",
              "      <td>1976</td>\n",
              "      <td>20.0</td>\n",
              "    </tr>\n",
              "    <tr>\n",
              "      <th>2</th>\n",
              "      <td>AUS</td>\n",
              "      <td>WAGEGAP</td>\n",
              "      <td>EMPLOYEE</td>\n",
              "      <td>PC</td>\n",
              "      <td>A</td>\n",
              "      <td>1977</td>\n",
              "      <td>18.0</td>\n",
              "    </tr>\n",
              "    <tr>\n",
              "      <th>3</th>\n",
              "      <td>AUS</td>\n",
              "      <td>WAGEGAP</td>\n",
              "      <td>EMPLOYEE</td>\n",
              "      <td>PC</td>\n",
              "      <td>A</td>\n",
              "      <td>1978</td>\n",
              "      <td>19.0</td>\n",
              "    </tr>\n",
              "    <tr>\n",
              "      <th>4</th>\n",
              "      <td>AUS</td>\n",
              "      <td>WAGEGAP</td>\n",
              "      <td>EMPLOYEE</td>\n",
              "      <td>PC</td>\n",
              "      <td>A</td>\n",
              "      <td>1979</td>\n",
              "      <td>20.0</td>\n",
              "    </tr>\n",
              "    <tr>\n",
              "      <th>...</th>\n",
              "      <td>...</td>\n",
              "      <td>...</td>\n",
              "      <td>...</td>\n",
              "      <td>...</td>\n",
              "      <td>...</td>\n",
              "      <td>...</td>\n",
              "      <td>...</td>\n",
              "    </tr>\n",
              "    <tr>\n",
              "      <th>1239</th>\n",
              "      <td>BRA</td>\n",
              "      <td>WAGEGAP</td>\n",
              "      <td>EMPLOYEE</td>\n",
              "      <td>PC</td>\n",
              "      <td>A</td>\n",
              "      <td>2017</td>\n",
              "      <td>13.0</td>\n",
              "    </tr>\n",
              "    <tr>\n",
              "      <th>1240</th>\n",
              "      <td>BRA</td>\n",
              "      <td>WAGEGAP</td>\n",
              "      <td>EMPLOYEE</td>\n",
              "      <td>PC</td>\n",
              "      <td>A</td>\n",
              "      <td>2018</td>\n",
              "      <td>10.0</td>\n",
              "    </tr>\n",
              "    <tr>\n",
              "      <th>1241</th>\n",
              "      <td>BRA</td>\n",
              "      <td>WAGEGAP</td>\n",
              "      <td>EMPLOYEE</td>\n",
              "      <td>PC</td>\n",
              "      <td>A</td>\n",
              "      <td>2019</td>\n",
              "      <td>66.0</td>\n",
              "    </tr>\n",
              "    <tr>\n",
              "      <th>1242</th>\n",
              "      <td>BRA</td>\n",
              "      <td>WAGEGAP</td>\n",
              "      <td>EMPLOYEE</td>\n",
              "      <td>PC</td>\n",
              "      <td>A</td>\n",
              "      <td>2020</td>\n",
              "      <td>62.0</td>\n",
              "    </tr>\n",
              "    <tr>\n",
              "      <th>1243</th>\n",
              "      <td>BRA</td>\n",
              "      <td>WAGEGAP</td>\n",
              "      <td>EMPLOYEE</td>\n",
              "      <td>PC</td>\n",
              "      <td>A</td>\n",
              "      <td>2021</td>\n",
              "      <td>90.0</td>\n",
              "    </tr>\n",
              "  </tbody>\n",
              "</table>\n",
              "<p>1244 rows × 7 columns</p>\n",
              "</div>\n",
              "      <button class=\"colab-df-convert\" onclick=\"convertToInteractive('df-5cc67567-c038-49e4-90f3-2ceb629d6b18')\"\n",
              "              title=\"Convert this dataframe to an interactive table.\"\n",
              "              style=\"display:none;\">\n",
              "        \n",
              "  <svg xmlns=\"http://www.w3.org/2000/svg\" height=\"24px\"viewBox=\"0 0 24 24\"\n",
              "       width=\"24px\">\n",
              "    <path d=\"M0 0h24v24H0V0z\" fill=\"none\"/>\n",
              "    <path d=\"M18.56 5.44l.94 2.06.94-2.06 2.06-.94-2.06-.94-.94-2.06-.94 2.06-2.06.94zm-11 1L8.5 8.5l.94-2.06 2.06-.94-2.06-.94L8.5 2.5l-.94 2.06-2.06.94zm10 10l.94 2.06.94-2.06 2.06-.94-2.06-.94-.94-2.06-.94 2.06-2.06.94z\"/><path d=\"M17.41 7.96l-1.37-1.37c-.4-.4-.92-.59-1.43-.59-.52 0-1.04.2-1.43.59L10.3 9.45l-7.72 7.72c-.78.78-.78 2.05 0 2.83L4 21.41c.39.39.9.59 1.41.59.51 0 1.02-.2 1.41-.59l7.78-7.78 2.81-2.81c.8-.78.8-2.07 0-2.86zM5.41 20L4 18.59l7.72-7.72 1.47 1.35L5.41 20z\"/>\n",
              "  </svg>\n",
              "      </button>\n",
              "      \n",
              "  <style>\n",
              "    .colab-df-container {\n",
              "      display:flex;\n",
              "      flex-wrap:wrap;\n",
              "      gap: 12px;\n",
              "    }\n",
              "\n",
              "    .colab-df-convert {\n",
              "      background-color: #E8F0FE;\n",
              "      border: none;\n",
              "      border-radius: 50%;\n",
              "      cursor: pointer;\n",
              "      display: none;\n",
              "      fill: #1967D2;\n",
              "      height: 32px;\n",
              "      padding: 0 0 0 0;\n",
              "      width: 32px;\n",
              "    }\n",
              "\n",
              "    .colab-df-convert:hover {\n",
              "      background-color: #E2EBFA;\n",
              "      box-shadow: 0px 1px 2px rgba(60, 64, 67, 0.3), 0px 1px 3px 1px rgba(60, 64, 67, 0.15);\n",
              "      fill: #174EA6;\n",
              "    }\n",
              "\n",
              "    [theme=dark] .colab-df-convert {\n",
              "      background-color: #3B4455;\n",
              "      fill: #D2E3FC;\n",
              "    }\n",
              "\n",
              "    [theme=dark] .colab-df-convert:hover {\n",
              "      background-color: #434B5C;\n",
              "      box-shadow: 0px 1px 3px 1px rgba(0, 0, 0, 0.15);\n",
              "      filter: drop-shadow(0px 1px 2px rgba(0, 0, 0, 0.3));\n",
              "      fill: #FFFFFF;\n",
              "    }\n",
              "  </style>\n",
              "\n",
              "      <script>\n",
              "        const buttonEl =\n",
              "          document.querySelector('#df-5cc67567-c038-49e4-90f3-2ceb629d6b18 button.colab-df-convert');\n",
              "        buttonEl.style.display =\n",
              "          google.colab.kernel.accessAllowed ? 'block' : 'none';\n",
              "\n",
              "        async function convertToInteractive(key) {\n",
              "          const element = document.querySelector('#df-5cc67567-c038-49e4-90f3-2ceb629d6b18');\n",
              "          const dataTable =\n",
              "            await google.colab.kernel.invokeFunction('convertToInteractive',\n",
              "                                                     [key], {});\n",
              "          if (!dataTable) return;\n",
              "\n",
              "          const docLinkHtml = 'Like what you see? Visit the ' +\n",
              "            '<a target=\"_blank\" href=https://colab.research.google.com/notebooks/data_table.ipynb>data table notebook</a>'\n",
              "            + ' to learn more about interactive tables.';\n",
              "          element.innerHTML = '';\n",
              "          dataTable['output_type'] = 'display_data';\n",
              "          await google.colab.output.renderOutput(dataTable, element);\n",
              "          const docLink = document.createElement('div');\n",
              "          docLink.innerHTML = docLinkHtml;\n",
              "          element.appendChild(docLink);\n",
              "        }\n",
              "      </script>\n",
              "    </div>\n",
              "  </div>\n",
              "  "
            ],
            "text/plain": [
              "     location indicator   subject measure frequency  time  value\n",
              "0         AUS   WAGEGAP  EMPLOYEE      PC         A  1975   21.0\n",
              "1         AUS   WAGEGAP  EMPLOYEE      PC         A  1976   20.0\n",
              "2         AUS   WAGEGAP  EMPLOYEE      PC         A  1977   18.0\n",
              "3         AUS   WAGEGAP  EMPLOYEE      PC         A  1978   19.0\n",
              "4         AUS   WAGEGAP  EMPLOYEE      PC         A  1979   20.0\n",
              "...       ...       ...       ...     ...       ...   ...    ...\n",
              "1239      BRA   WAGEGAP  EMPLOYEE      PC         A  2017   13.0\n",
              "1240      BRA   WAGEGAP  EMPLOYEE      PC         A  2018   10.0\n",
              "1241      BRA   WAGEGAP  EMPLOYEE      PC         A  2019   66.0\n",
              "1242      BRA   WAGEGAP  EMPLOYEE      PC         A  2020   62.0\n",
              "1243      BRA   WAGEGAP  EMPLOYEE      PC         A  2021   90.0\n",
              "\n",
              "[1244 rows x 7 columns]"
            ]
          },
          "execution_count": 12,
          "metadata": {},
          "output_type": "execute_result"
        }
      ],
      "source": [
        "df['value']=df['value'].str.replace(\".\", \"\")\n",
        "df['value'] = df['value'].str[:2]\n",
        "df['value']=df['value'].astype(float)\n",
        "df"
      ]
    },
    {
      "cell_type": "code",
      "execution_count": 13,
      "metadata": {
        "colab": {
          "base_uri": "https://localhost:8080/"
        },
        "id": "wKi0YGwTGyZd",
        "outputId": "757a79dd-004e-4a3d-8f19-5abfe8203bd6"
      },
      "outputs": [
        {
          "data": {
            "text/plain": [
              "count    1244.000000\n",
              "mean       31.895498\n",
              "std        20.899838\n",
              "min        -8.000000\n",
              "25%        17.000000\n",
              "50%        26.000000\n",
              "75%        40.000000\n",
              "max        99.000000\n",
              "Name: value, dtype: float64"
            ]
          },
          "execution_count": 13,
          "metadata": {},
          "output_type": "execute_result"
        }
      ],
      "source": [
        "df['value'].describe()"
      ]
    },
    {
      "cell_type": "code",
      "execution_count": 14,
      "metadata": {
        "id": "_Q_rJDzNG031"
      },
      "outputs": [],
      "source": [
        "df=df.drop(['indicator','measure','frequency'],axis=1)"
      ]
    },
    {
      "cell_type": "markdown",
      "metadata": {
        "id": "34BoAzwKHktA"
      },
      "source": [
        "**Menampilkan Kesenjangan Gender dari 2000 sampai 2020**"
      ]
    },
    {
      "cell_type": "code",
      "execution_count": 15,
      "metadata": {
        "id": "WyG4v46QG3QT"
      },
      "outputs": [],
      "source": [
        "df=df.sort_values(by=['time'])"
      ]
    },
    {
      "cell_type": "code",
      "execution_count": 16,
      "metadata": {
        "id": "WQ3Ew_mJG4oh"
      },
      "outputs": [],
      "source": [
        "df1=df[df['time']>=2000]"
      ]
    },
    {
      "cell_type": "code",
      "execution_count": 17,
      "metadata": {
        "id": "CPm7cagXG5yv"
      },
      "outputs": [],
      "source": [
        "value_revise= lambda x : x/10 if (x > 42 ) else x"
      ]
    },
    {
      "cell_type": "code",
      "execution_count": 18,
      "metadata": {
        "colab": {
          "base_uri": "https://localhost:8080/"
        },
        "id": "aNZx4BmBG7DQ",
        "outputId": "57928743-fcde-4d06-bddf-e8c4505226de"
      },
      "outputs": [
        {
          "name": "stderr",
          "output_type": "stream",
          "text": [
            "<ipython-input-18-88eead9ff1a6>:1: SettingWithCopyWarning: \n",
            "A value is trying to be set on a copy of a slice from a DataFrame.\n",
            "Try using .loc[row_indexer,col_indexer] = value instead\n",
            "\n",
            "See the caveats in the documentation: https://pandas.pydata.org/pandas-docs/stable/user_guide/indexing.html#returning-a-view-versus-a-copy\n",
            "  df1['value_new']=df1['value'].apply(value_revise)\n"
          ]
        }
      ],
      "source": [
        "df1['value_new']=df1['value'].apply(value_revise)"
      ]
    },
    {
      "cell_type": "code",
      "execution_count": 19,
      "metadata": {
        "colab": {
          "base_uri": "https://localhost:8080/",
          "height": 300
        },
        "id": "HTRXXxV2G8Pa",
        "outputId": "3160e5b5-87a2-43b1-bba3-ac0158af39ef"
      },
      "outputs": [
        {
          "data": {
            "text/html": [
              "\n",
              "  <div id=\"df-3316a042-23eb-4761-99b9-8fda476f438a\">\n",
              "    <div class=\"colab-df-container\">\n",
              "      <div>\n",
              "<style scoped>\n",
              "    .dataframe tbody tr th:only-of-type {\n",
              "        vertical-align: middle;\n",
              "    }\n",
              "\n",
              "    .dataframe tbody tr th {\n",
              "        vertical-align: top;\n",
              "    }\n",
              "\n",
              "    .dataframe thead th {\n",
              "        text-align: right;\n",
              "    }\n",
              "</style>\n",
              "<table border=\"1\" class=\"dataframe\">\n",
              "  <thead>\n",
              "    <tr style=\"text-align: right;\">\n",
              "      <th></th>\n",
              "      <th>time</th>\n",
              "      <th>value</th>\n",
              "      <th>value_new</th>\n",
              "    </tr>\n",
              "  </thead>\n",
              "  <tbody>\n",
              "    <tr>\n",
              "      <th>count</th>\n",
              "      <td>1047.000000</td>\n",
              "      <td>1047.000000</td>\n",
              "      <td>1047.000000</td>\n",
              "    </tr>\n",
              "    <tr>\n",
              "      <th>mean</th>\n",
              "      <td>2011.066858</td>\n",
              "      <td>32.429799</td>\n",
              "      <td>18.347851</td>\n",
              "    </tr>\n",
              "    <tr>\n",
              "      <th>std</th>\n",
              "      <td>5.520804</td>\n",
              "      <td>21.861737</td>\n",
              "      <td>10.661355</td>\n",
              "    </tr>\n",
              "    <tr>\n",
              "      <th>min</th>\n",
              "      <td>2000.000000</td>\n",
              "      <td>-8.000000</td>\n",
              "      <td>-8.000000</td>\n",
              "    </tr>\n",
              "    <tr>\n",
              "      <th>25%</th>\n",
              "      <td>2006.000000</td>\n",
              "      <td>16.000000</td>\n",
              "      <td>9.800000</td>\n",
              "    </tr>\n",
              "    <tr>\n",
              "      <th>50%</th>\n",
              "      <td>2011.000000</td>\n",
              "      <td>26.000000</td>\n",
              "      <td>16.000000</td>\n",
              "    </tr>\n",
              "    <tr>\n",
              "      <th>75%</th>\n",
              "      <td>2016.000000</td>\n",
              "      <td>41.000000</td>\n",
              "      <td>27.000000</td>\n",
              "    </tr>\n",
              "    <tr>\n",
              "      <th>max</th>\n",
              "      <td>2021.000000</td>\n",
              "      <td>99.000000</td>\n",
              "      <td>42.000000</td>\n",
              "    </tr>\n",
              "  </tbody>\n",
              "</table>\n",
              "</div>\n",
              "      <button class=\"colab-df-convert\" onclick=\"convertToInteractive('df-3316a042-23eb-4761-99b9-8fda476f438a')\"\n",
              "              title=\"Convert this dataframe to an interactive table.\"\n",
              "              style=\"display:none;\">\n",
              "        \n",
              "  <svg xmlns=\"http://www.w3.org/2000/svg\" height=\"24px\"viewBox=\"0 0 24 24\"\n",
              "       width=\"24px\">\n",
              "    <path d=\"M0 0h24v24H0V0z\" fill=\"none\"/>\n",
              "    <path d=\"M18.56 5.44l.94 2.06.94-2.06 2.06-.94-2.06-.94-.94-2.06-.94 2.06-2.06.94zm-11 1L8.5 8.5l.94-2.06 2.06-.94-2.06-.94L8.5 2.5l-.94 2.06-2.06.94zm10 10l.94 2.06.94-2.06 2.06-.94-2.06-.94-.94-2.06-.94 2.06-2.06.94z\"/><path d=\"M17.41 7.96l-1.37-1.37c-.4-.4-.92-.59-1.43-.59-.52 0-1.04.2-1.43.59L10.3 9.45l-7.72 7.72c-.78.78-.78 2.05 0 2.83L4 21.41c.39.39.9.59 1.41.59.51 0 1.02-.2 1.41-.59l7.78-7.78 2.81-2.81c.8-.78.8-2.07 0-2.86zM5.41 20L4 18.59l7.72-7.72 1.47 1.35L5.41 20z\"/>\n",
              "  </svg>\n",
              "      </button>\n",
              "      \n",
              "  <style>\n",
              "    .colab-df-container {\n",
              "      display:flex;\n",
              "      flex-wrap:wrap;\n",
              "      gap: 12px;\n",
              "    }\n",
              "\n",
              "    .colab-df-convert {\n",
              "      background-color: #E8F0FE;\n",
              "      border: none;\n",
              "      border-radius: 50%;\n",
              "      cursor: pointer;\n",
              "      display: none;\n",
              "      fill: #1967D2;\n",
              "      height: 32px;\n",
              "      padding: 0 0 0 0;\n",
              "      width: 32px;\n",
              "    }\n",
              "\n",
              "    .colab-df-convert:hover {\n",
              "      background-color: #E2EBFA;\n",
              "      box-shadow: 0px 1px 2px rgba(60, 64, 67, 0.3), 0px 1px 3px 1px rgba(60, 64, 67, 0.15);\n",
              "      fill: #174EA6;\n",
              "    }\n",
              "\n",
              "    [theme=dark] .colab-df-convert {\n",
              "      background-color: #3B4455;\n",
              "      fill: #D2E3FC;\n",
              "    }\n",
              "\n",
              "    [theme=dark] .colab-df-convert:hover {\n",
              "      background-color: #434B5C;\n",
              "      box-shadow: 0px 1px 3px 1px rgba(0, 0, 0, 0.15);\n",
              "      filter: drop-shadow(0px 1px 2px rgba(0, 0, 0, 0.3));\n",
              "      fill: #FFFFFF;\n",
              "    }\n",
              "  </style>\n",
              "\n",
              "      <script>\n",
              "        const buttonEl =\n",
              "          document.querySelector('#df-3316a042-23eb-4761-99b9-8fda476f438a button.colab-df-convert');\n",
              "        buttonEl.style.display =\n",
              "          google.colab.kernel.accessAllowed ? 'block' : 'none';\n",
              "\n",
              "        async function convertToInteractive(key) {\n",
              "          const element = document.querySelector('#df-3316a042-23eb-4761-99b9-8fda476f438a');\n",
              "          const dataTable =\n",
              "            await google.colab.kernel.invokeFunction('convertToInteractive',\n",
              "                                                     [key], {});\n",
              "          if (!dataTable) return;\n",
              "\n",
              "          const docLinkHtml = 'Like what you see? Visit the ' +\n",
              "            '<a target=\"_blank\" href=https://colab.research.google.com/notebooks/data_table.ipynb>data table notebook</a>'\n",
              "            + ' to learn more about interactive tables.';\n",
              "          element.innerHTML = '';\n",
              "          dataTable['output_type'] = 'display_data';\n",
              "          await google.colab.output.renderOutput(dataTable, element);\n",
              "          const docLink = document.createElement('div');\n",
              "          docLink.innerHTML = docLinkHtml;\n",
              "          element.appendChild(docLink);\n",
              "        }\n",
              "      </script>\n",
              "    </div>\n",
              "  </div>\n",
              "  "
            ],
            "text/plain": [
              "              time        value    value_new\n",
              "count  1047.000000  1047.000000  1047.000000\n",
              "mean   2011.066858    32.429799    18.347851\n",
              "std       5.520804    21.861737    10.661355\n",
              "min    2000.000000    -8.000000    -8.000000\n",
              "25%    2006.000000    16.000000     9.800000\n",
              "50%    2011.000000    26.000000    16.000000\n",
              "75%    2016.000000    41.000000    27.000000\n",
              "max    2021.000000    99.000000    42.000000"
            ]
          },
          "execution_count": 19,
          "metadata": {},
          "output_type": "execute_result"
        }
      ],
      "source": [
        "df1.describe()"
      ]
    },
    {
      "cell_type": "code",
      "execution_count": 20,
      "metadata": {
        "id": "f4nPEMsFG-A4"
      },
      "outputs": [],
      "source": [
        "df1 = df1.drop('value', axis=1)"
      ]
    },
    {
      "cell_type": "code",
      "execution_count": 21,
      "metadata": {
        "id": "lVry8D4vHAst"
      },
      "outputs": [],
      "source": [
        "import numpy as np\n",
        "  \n",
        "# converting 'Field_2' from float to int\n",
        "df1['value_new'] = df1['value_new'].apply(np.int64)"
      ]
    },
    {
      "cell_type": "code",
      "execution_count": 22,
      "metadata": {
        "colab": {
          "base_uri": "https://localhost:8080/"
        },
        "id": "I2xXG1vLHCNp",
        "outputId": "1da26eb7-b891-4cb1-d00a-53f877ad6098"
      },
      "outputs": [
        {
          "name": "stdout",
          "output_type": "stream",
          "text": [
            "<class 'pandas.core.frame.DataFrame'>\n",
            "Int64Index: 1047 entries, 679 to 1243\n",
            "Data columns (total 4 columns):\n",
            " #   Column     Non-Null Count  Dtype \n",
            "---  ------     --------------  ----- \n",
            " 0   location   1047 non-null   object\n",
            " 1   subject    1047 non-null   object\n",
            " 2   time       1047 non-null   int64 \n",
            " 3   value_new  1047 non-null   int64 \n",
            "dtypes: int64(2), object(2)\n",
            "memory usage: 40.9+ KB\n"
          ]
        }
      ],
      "source": [
        "df1.info()"
      ]
    },
    {
      "cell_type": "code",
      "execution_count": 23,
      "metadata": {
        "colab": {
          "base_uri": "https://localhost:8080/",
          "height": 424
        },
        "id": "JISuZikTHDwp",
        "outputId": "faf8383e-d0e0-4078-c70e-94bfabdc893c"
      },
      "outputs": [
        {
          "data": {
            "text/html": [
              "\n",
              "  <div id=\"df-5a478f48-44a8-4e09-a2d0-66225980e495\">\n",
              "    <div class=\"colab-df-container\">\n",
              "      <div>\n",
              "<style scoped>\n",
              "    .dataframe tbody tr th:only-of-type {\n",
              "        vertical-align: middle;\n",
              "    }\n",
              "\n",
              "    .dataframe tbody tr th {\n",
              "        vertical-align: top;\n",
              "    }\n",
              "\n",
              "    .dataframe thead th {\n",
              "        text-align: right;\n",
              "    }\n",
              "</style>\n",
              "<table border=\"1\" class=\"dataframe\">\n",
              "  <thead>\n",
              "    <tr style=\"text-align: right;\">\n",
              "      <th></th>\n",
              "      <th>location</th>\n",
              "      <th>subject</th>\n",
              "      <th>time</th>\n",
              "      <th>value_new</th>\n",
              "    </tr>\n",
              "  </thead>\n",
              "  <tbody>\n",
              "    <tr>\n",
              "      <th>679</th>\n",
              "      <td>NOR</td>\n",
              "      <td>EMPLOYEE</td>\n",
              "      <td>2000</td>\n",
              "      <td>9</td>\n",
              "    </tr>\n",
              "    <tr>\n",
              "      <th>137</th>\n",
              "      <td>CAN</td>\n",
              "      <td>EMPLOYEE</td>\n",
              "      <td>2000</td>\n",
              "      <td>23</td>\n",
              "    </tr>\n",
              "    <tr>\n",
              "      <th>995</th>\n",
              "      <td>USA</td>\n",
              "      <td>EMPLOYEE</td>\n",
              "      <td>2000</td>\n",
              "      <td>23</td>\n",
              "    </tr>\n",
              "    <tr>\n",
              "      <th>930</th>\n",
              "      <td>GBR</td>\n",
              "      <td>EMPLOYEE</td>\n",
              "      <td>2000</td>\n",
              "      <td>26</td>\n",
              "    </tr>\n",
              "    <tr>\n",
              "      <th>388</th>\n",
              "      <td>HUN</td>\n",
              "      <td>EMPLOYEE</td>\n",
              "      <td>2000</td>\n",
              "      <td>14</td>\n",
              "    </tr>\n",
              "    <tr>\n",
              "      <th>...</th>\n",
              "      <td>...</td>\n",
              "      <td>...</td>\n",
              "      <td>...</td>\n",
              "      <td>...</td>\n",
              "    </tr>\n",
              "    <tr>\n",
              "      <th>580</th>\n",
              "      <td>MEX</td>\n",
              "      <td>EMPLOYEE</td>\n",
              "      <td>2021</td>\n",
              "      <td>12</td>\n",
              "    </tr>\n",
              "    <tr>\n",
              "      <th>658</th>\n",
              "      <td>NZL</td>\n",
              "      <td>EMPLOYEE</td>\n",
              "      <td>2021</td>\n",
              "      <td>6</td>\n",
              "    </tr>\n",
              "    <tr>\n",
              "      <th>1016</th>\n",
              "      <td>USA</td>\n",
              "      <td>EMPLOYEE</td>\n",
              "      <td>2021</td>\n",
              "      <td>16</td>\n",
              "    </tr>\n",
              "    <tr>\n",
              "      <th>1233</th>\n",
              "      <td>ARG</td>\n",
              "      <td>EMPLOYEE</td>\n",
              "      <td>2021</td>\n",
              "      <td>6</td>\n",
              "    </tr>\n",
              "    <tr>\n",
              "      <th>1243</th>\n",
              "      <td>BRA</td>\n",
              "      <td>EMPLOYEE</td>\n",
              "      <td>2021</td>\n",
              "      <td>9</td>\n",
              "    </tr>\n",
              "  </tbody>\n",
              "</table>\n",
              "<p>1047 rows × 4 columns</p>\n",
              "</div>\n",
              "      <button class=\"colab-df-convert\" onclick=\"convertToInteractive('df-5a478f48-44a8-4e09-a2d0-66225980e495')\"\n",
              "              title=\"Convert this dataframe to an interactive table.\"\n",
              "              style=\"display:none;\">\n",
              "        \n",
              "  <svg xmlns=\"http://www.w3.org/2000/svg\" height=\"24px\"viewBox=\"0 0 24 24\"\n",
              "       width=\"24px\">\n",
              "    <path d=\"M0 0h24v24H0V0z\" fill=\"none\"/>\n",
              "    <path d=\"M18.56 5.44l.94 2.06.94-2.06 2.06-.94-2.06-.94-.94-2.06-.94 2.06-2.06.94zm-11 1L8.5 8.5l.94-2.06 2.06-.94-2.06-.94L8.5 2.5l-.94 2.06-2.06.94zm10 10l.94 2.06.94-2.06 2.06-.94-2.06-.94-.94-2.06-.94 2.06-2.06.94z\"/><path d=\"M17.41 7.96l-1.37-1.37c-.4-.4-.92-.59-1.43-.59-.52 0-1.04.2-1.43.59L10.3 9.45l-7.72 7.72c-.78.78-.78 2.05 0 2.83L4 21.41c.39.39.9.59 1.41.59.51 0 1.02-.2 1.41-.59l7.78-7.78 2.81-2.81c.8-.78.8-2.07 0-2.86zM5.41 20L4 18.59l7.72-7.72 1.47 1.35L5.41 20z\"/>\n",
              "  </svg>\n",
              "      </button>\n",
              "      \n",
              "  <style>\n",
              "    .colab-df-container {\n",
              "      display:flex;\n",
              "      flex-wrap:wrap;\n",
              "      gap: 12px;\n",
              "    }\n",
              "\n",
              "    .colab-df-convert {\n",
              "      background-color: #E8F0FE;\n",
              "      border: none;\n",
              "      border-radius: 50%;\n",
              "      cursor: pointer;\n",
              "      display: none;\n",
              "      fill: #1967D2;\n",
              "      height: 32px;\n",
              "      padding: 0 0 0 0;\n",
              "      width: 32px;\n",
              "    }\n",
              "\n",
              "    .colab-df-convert:hover {\n",
              "      background-color: #E2EBFA;\n",
              "      box-shadow: 0px 1px 2px rgba(60, 64, 67, 0.3), 0px 1px 3px 1px rgba(60, 64, 67, 0.15);\n",
              "      fill: #174EA6;\n",
              "    }\n",
              "\n",
              "    [theme=dark] .colab-df-convert {\n",
              "      background-color: #3B4455;\n",
              "      fill: #D2E3FC;\n",
              "    }\n",
              "\n",
              "    [theme=dark] .colab-df-convert:hover {\n",
              "      background-color: #434B5C;\n",
              "      box-shadow: 0px 1px 3px 1px rgba(0, 0, 0, 0.15);\n",
              "      filter: drop-shadow(0px 1px 2px rgba(0, 0, 0, 0.3));\n",
              "      fill: #FFFFFF;\n",
              "    }\n",
              "  </style>\n",
              "\n",
              "      <script>\n",
              "        const buttonEl =\n",
              "          document.querySelector('#df-5a478f48-44a8-4e09-a2d0-66225980e495 button.colab-df-convert');\n",
              "        buttonEl.style.display =\n",
              "          google.colab.kernel.accessAllowed ? 'block' : 'none';\n",
              "\n",
              "        async function convertToInteractive(key) {\n",
              "          const element = document.querySelector('#df-5a478f48-44a8-4e09-a2d0-66225980e495');\n",
              "          const dataTable =\n",
              "            await google.colab.kernel.invokeFunction('convertToInteractive',\n",
              "                                                     [key], {});\n",
              "          if (!dataTable) return;\n",
              "\n",
              "          const docLinkHtml = 'Like what you see? Visit the ' +\n",
              "            '<a target=\"_blank\" href=https://colab.research.google.com/notebooks/data_table.ipynb>data table notebook</a>'\n",
              "            + ' to learn more about interactive tables.';\n",
              "          element.innerHTML = '';\n",
              "          dataTable['output_type'] = 'display_data';\n",
              "          await google.colab.output.renderOutput(dataTable, element);\n",
              "          const docLink = document.createElement('div');\n",
              "          docLink.innerHTML = docLinkHtml;\n",
              "          element.appendChild(docLink);\n",
              "        }\n",
              "      </script>\n",
              "    </div>\n",
              "  </div>\n",
              "  "
            ],
            "text/plain": [
              "     location   subject  time  value_new\n",
              "679       NOR  EMPLOYEE  2000          9\n",
              "137       CAN  EMPLOYEE  2000         23\n",
              "995       USA  EMPLOYEE  2000         23\n",
              "930       GBR  EMPLOYEE  2000         26\n",
              "388       HUN  EMPLOYEE  2000         14\n",
              "...       ...       ...   ...        ...\n",
              "580       MEX  EMPLOYEE  2021         12\n",
              "658       NZL  EMPLOYEE  2021          6\n",
              "1016      USA  EMPLOYEE  2021         16\n",
              "1233      ARG  EMPLOYEE  2021          6\n",
              "1243      BRA  EMPLOYEE  2021          9\n",
              "\n",
              "[1047 rows x 4 columns]"
            ]
          },
          "execution_count": 23,
          "metadata": {},
          "output_type": "execute_result"
        }
      ],
      "source": [
        "df1"
      ]
    },
    {
      "cell_type": "code",
      "execution_count": 27,
      "metadata": {
        "colab": {
          "base_uri": "https://localhost:8080/",
          "height": 717
        },
        "id": "IVArE9akHF7G",
        "outputId": "5d5847a4-07db-485a-e805-11834dc8fe65"
      },
      "outputs": [
        {
          "data": {
            "text/html": [
              "<html>\n",
              "<head><meta charset=\"utf-8\" /></head>\n",
              "<body>\n",
              "    <div>            <script src=\"https://cdnjs.cloudflare.com/ajax/libs/mathjax/2.7.5/MathJax.js?config=TeX-AMS-MML_SVG\"></script><script type=\"text/javascript\">if (window.MathJax) {MathJax.Hub.Config({SVG: {font: \"STIX-Web\"}});}</script>                <script type=\"text/javascript\">window.PlotlyConfig = {MathJaxConfig: 'local'};</script>\n",
              "        <script src=\"https://cdn.plot.ly/plotly-2.8.3.min.js\"></script>                <div id=\"9de1ef0c-23ff-4727-833a-d6ebc7809ddc\" class=\"plotly-graph-div\" style=\"height:700px; width:100%;\"></div>            <script type=\"text/javascript\">                                    window.PLOTLYENV=window.PLOTLYENV || {};                                    if (document.getElementById(\"9de1ef0c-23ff-4727-833a-d6ebc7809ddc\")) {                    Plotly.newPlot(                        \"9de1ef0c-23ff-4727-833a-d6ebc7809ddc\",                        [{\"coloraxis\":\"coloraxis\",\"geo\":\"geo\",\"hovertemplate\":\"time=2000<br>location=%{location}<br>value_new=%{z}<extra></extra>\",\"locations\":[\"NOR\",\"CAN\",\"USA\",\"GBR\",\"HUN\",\"JPN\",\"FIN\",\"DEU\",\"CHE\",\"KOR\",\"OECD\",\"AUT\",\"SWE\",\"NZL\",\"NZL\",\"AUS\",\"CHL\",\"BEL\"],\"name\":\"\",\"z\":[9,23,23,26,14,33,20,19,23,41,18,23,12,7,35,17,6,13],\"type\":\"choropleth\"}],                        {\"template\":{\"data\":{\"bar\":[{\"error_x\":{\"color\":\"#2a3f5f\"},\"error_y\":{\"color\":\"#2a3f5f\"},\"marker\":{\"line\":{\"color\":\"#E5ECF6\",\"width\":0.5},\"pattern\":{\"fillmode\":\"overlay\",\"size\":10,\"solidity\":0.2}},\"type\":\"bar\"}],\"barpolar\":[{\"marker\":{\"line\":{\"color\":\"#E5ECF6\",\"width\":0.5},\"pattern\":{\"fillmode\":\"overlay\",\"size\":10,\"solidity\":0.2}},\"type\":\"barpolar\"}],\"carpet\":[{\"aaxis\":{\"endlinecolor\":\"#2a3f5f\",\"gridcolor\":\"white\",\"linecolor\":\"white\",\"minorgridcolor\":\"white\",\"startlinecolor\":\"#2a3f5f\"},\"baxis\":{\"endlinecolor\":\"#2a3f5f\",\"gridcolor\":\"white\",\"linecolor\":\"white\",\"minorgridcolor\":\"white\",\"startlinecolor\":\"#2a3f5f\"},\"type\":\"carpet\"}],\"choropleth\":[{\"colorbar\":{\"outlinewidth\":0,\"ticks\":\"\"},\"type\":\"choropleth\"}],\"contour\":[{\"colorbar\":{\"outlinewidth\":0,\"ticks\":\"\"},\"colorscale\":[[0.0,\"#0d0887\"],[0.1111111111111111,\"#46039f\"],[0.2222222222222222,\"#7201a8\"],[0.3333333333333333,\"#9c179e\"],[0.4444444444444444,\"#bd3786\"],[0.5555555555555556,\"#d8576b\"],[0.6666666666666666,\"#ed7953\"],[0.7777777777777778,\"#fb9f3a\"],[0.8888888888888888,\"#fdca26\"],[1.0,\"#f0f921\"]],\"type\":\"contour\"}],\"contourcarpet\":[{\"colorbar\":{\"outlinewidth\":0,\"ticks\":\"\"},\"type\":\"contourcarpet\"}],\"heatmap\":[{\"colorbar\":{\"outlinewidth\":0,\"ticks\":\"\"},\"colorscale\":[[0.0,\"#0d0887\"],[0.1111111111111111,\"#46039f\"],[0.2222222222222222,\"#7201a8\"],[0.3333333333333333,\"#9c179e\"],[0.4444444444444444,\"#bd3786\"],[0.5555555555555556,\"#d8576b\"],[0.6666666666666666,\"#ed7953\"],[0.7777777777777778,\"#fb9f3a\"],[0.8888888888888888,\"#fdca26\"],[1.0,\"#f0f921\"]],\"type\":\"heatmap\"}],\"heatmapgl\":[{\"colorbar\":{\"outlinewidth\":0,\"ticks\":\"\"},\"colorscale\":[[0.0,\"#0d0887\"],[0.1111111111111111,\"#46039f\"],[0.2222222222222222,\"#7201a8\"],[0.3333333333333333,\"#9c179e\"],[0.4444444444444444,\"#bd3786\"],[0.5555555555555556,\"#d8576b\"],[0.6666666666666666,\"#ed7953\"],[0.7777777777777778,\"#fb9f3a\"],[0.8888888888888888,\"#fdca26\"],[1.0,\"#f0f921\"]],\"type\":\"heatmapgl\"}],\"histogram\":[{\"marker\":{\"pattern\":{\"fillmode\":\"overlay\",\"size\":10,\"solidity\":0.2}},\"type\":\"histogram\"}],\"histogram2d\":[{\"colorbar\":{\"outlinewidth\":0,\"ticks\":\"\"},\"colorscale\":[[0.0,\"#0d0887\"],[0.1111111111111111,\"#46039f\"],[0.2222222222222222,\"#7201a8\"],[0.3333333333333333,\"#9c179e\"],[0.4444444444444444,\"#bd3786\"],[0.5555555555555556,\"#d8576b\"],[0.6666666666666666,\"#ed7953\"],[0.7777777777777778,\"#fb9f3a\"],[0.8888888888888888,\"#fdca26\"],[1.0,\"#f0f921\"]],\"type\":\"histogram2d\"}],\"histogram2dcontour\":[{\"colorbar\":{\"outlinewidth\":0,\"ticks\":\"\"},\"colorscale\":[[0.0,\"#0d0887\"],[0.1111111111111111,\"#46039f\"],[0.2222222222222222,\"#7201a8\"],[0.3333333333333333,\"#9c179e\"],[0.4444444444444444,\"#bd3786\"],[0.5555555555555556,\"#d8576b\"],[0.6666666666666666,\"#ed7953\"],[0.7777777777777778,\"#fb9f3a\"],[0.8888888888888888,\"#fdca26\"],[1.0,\"#f0f921\"]],\"type\":\"histogram2dcontour\"}],\"mesh3d\":[{\"colorbar\":{\"outlinewidth\":0,\"ticks\":\"\"},\"type\":\"mesh3d\"}],\"parcoords\":[{\"line\":{\"colorbar\":{\"outlinewidth\":0,\"ticks\":\"\"}},\"type\":\"parcoords\"}],\"pie\":[{\"automargin\":true,\"type\":\"pie\"}],\"scatter\":[{\"marker\":{\"colorbar\":{\"outlinewidth\":0,\"ticks\":\"\"}},\"type\":\"scatter\"}],\"scatter3d\":[{\"line\":{\"colorbar\":{\"outlinewidth\":0,\"ticks\":\"\"}},\"marker\":{\"colorbar\":{\"outlinewidth\":0,\"ticks\":\"\"}},\"type\":\"scatter3d\"}],\"scattercarpet\":[{\"marker\":{\"colorbar\":{\"outlinewidth\":0,\"ticks\":\"\"}},\"type\":\"scattercarpet\"}],\"scattergeo\":[{\"marker\":{\"colorbar\":{\"outlinewidth\":0,\"ticks\":\"\"}},\"type\":\"scattergeo\"}],\"scattergl\":[{\"marker\":{\"colorbar\":{\"outlinewidth\":0,\"ticks\":\"\"}},\"type\":\"scattergl\"}],\"scattermapbox\":[{\"marker\":{\"colorbar\":{\"outlinewidth\":0,\"ticks\":\"\"}},\"type\":\"scattermapbox\"}],\"scatterpolar\":[{\"marker\":{\"colorbar\":{\"outlinewidth\":0,\"ticks\":\"\"}},\"type\":\"scatterpolar\"}],\"scatterpolargl\":[{\"marker\":{\"colorbar\":{\"outlinewidth\":0,\"ticks\":\"\"}},\"type\":\"scatterpolargl\"}],\"scatterternary\":[{\"marker\":{\"colorbar\":{\"outlinewidth\":0,\"ticks\":\"\"}},\"type\":\"scatterternary\"}],\"surface\":[{\"colorbar\":{\"outlinewidth\":0,\"ticks\":\"\"},\"colorscale\":[[0.0,\"#0d0887\"],[0.1111111111111111,\"#46039f\"],[0.2222222222222222,\"#7201a8\"],[0.3333333333333333,\"#9c179e\"],[0.4444444444444444,\"#bd3786\"],[0.5555555555555556,\"#d8576b\"],[0.6666666666666666,\"#ed7953\"],[0.7777777777777778,\"#fb9f3a\"],[0.8888888888888888,\"#fdca26\"],[1.0,\"#f0f921\"]],\"type\":\"surface\"}],\"table\":[{\"cells\":{\"fill\":{\"color\":\"#EBF0F8\"},\"line\":{\"color\":\"white\"}},\"header\":{\"fill\":{\"color\":\"#C8D4E3\"},\"line\":{\"color\":\"white\"}},\"type\":\"table\"}]},\"layout\":{\"annotationdefaults\":{\"arrowcolor\":\"#2a3f5f\",\"arrowhead\":0,\"arrowwidth\":1},\"autotypenumbers\":\"strict\",\"coloraxis\":{\"colorbar\":{\"outlinewidth\":0,\"ticks\":\"\"}},\"colorscale\":{\"diverging\":[[0,\"#8e0152\"],[0.1,\"#c51b7d\"],[0.2,\"#de77ae\"],[0.3,\"#f1b6da\"],[0.4,\"#fde0ef\"],[0.5,\"#f7f7f7\"],[0.6,\"#e6f5d0\"],[0.7,\"#b8e186\"],[0.8,\"#7fbc41\"],[0.9,\"#4d9221\"],[1,\"#276419\"]],\"sequential\":[[0.0,\"#0d0887\"],[0.1111111111111111,\"#46039f\"],[0.2222222222222222,\"#7201a8\"],[0.3333333333333333,\"#9c179e\"],[0.4444444444444444,\"#bd3786\"],[0.5555555555555556,\"#d8576b\"],[0.6666666666666666,\"#ed7953\"],[0.7777777777777778,\"#fb9f3a\"],[0.8888888888888888,\"#fdca26\"],[1.0,\"#f0f921\"]],\"sequentialminus\":[[0.0,\"#0d0887\"],[0.1111111111111111,\"#46039f\"],[0.2222222222222222,\"#7201a8\"],[0.3333333333333333,\"#9c179e\"],[0.4444444444444444,\"#bd3786\"],[0.5555555555555556,\"#d8576b\"],[0.6666666666666666,\"#ed7953\"],[0.7777777777777778,\"#fb9f3a\"],[0.8888888888888888,\"#fdca26\"],[1.0,\"#f0f921\"]]},\"colorway\":[\"#636efa\",\"#EF553B\",\"#00cc96\",\"#ab63fa\",\"#FFA15A\",\"#19d3f3\",\"#FF6692\",\"#B6E880\",\"#FF97FF\",\"#FECB52\"],\"font\":{\"color\":\"#2a3f5f\"},\"geo\":{\"bgcolor\":\"white\",\"lakecolor\":\"white\",\"landcolor\":\"#E5ECF6\",\"showlakes\":true,\"showland\":true,\"subunitcolor\":\"white\"},\"hoverlabel\":{\"align\":\"left\"},\"hovermode\":\"closest\",\"mapbox\":{\"style\":\"light\"},\"paper_bgcolor\":\"white\",\"plot_bgcolor\":\"#E5ECF6\",\"polar\":{\"angularaxis\":{\"gridcolor\":\"white\",\"linecolor\":\"white\",\"ticks\":\"\"},\"bgcolor\":\"#E5ECF6\",\"radialaxis\":{\"gridcolor\":\"white\",\"linecolor\":\"white\",\"ticks\":\"\"}},\"scene\":{\"xaxis\":{\"backgroundcolor\":\"#E5ECF6\",\"gridcolor\":\"white\",\"gridwidth\":2,\"linecolor\":\"white\",\"showbackground\":true,\"ticks\":\"\",\"zerolinecolor\":\"white\"},\"yaxis\":{\"backgroundcolor\":\"#E5ECF6\",\"gridcolor\":\"white\",\"gridwidth\":2,\"linecolor\":\"white\",\"showbackground\":true,\"ticks\":\"\",\"zerolinecolor\":\"white\"},\"zaxis\":{\"backgroundcolor\":\"#E5ECF6\",\"gridcolor\":\"white\",\"gridwidth\":2,\"linecolor\":\"white\",\"showbackground\":true,\"ticks\":\"\",\"zerolinecolor\":\"white\"}},\"shapedefaults\":{\"line\":{\"color\":\"#2a3f5f\"}},\"ternary\":{\"aaxis\":{\"gridcolor\":\"white\",\"linecolor\":\"white\",\"ticks\":\"\"},\"baxis\":{\"gridcolor\":\"white\",\"linecolor\":\"white\",\"ticks\":\"\"},\"bgcolor\":\"#E5ECF6\",\"caxis\":{\"gridcolor\":\"white\",\"linecolor\":\"white\",\"ticks\":\"\"}},\"title\":{\"x\":0.05},\"xaxis\":{\"automargin\":true,\"gridcolor\":\"white\",\"linecolor\":\"white\",\"ticks\":\"\",\"title\":{\"standoff\":15},\"zerolinecolor\":\"white\",\"zerolinewidth\":2},\"yaxis\":{\"automargin\":true,\"gridcolor\":\"white\",\"linecolor\":\"white\",\"ticks\":\"\",\"title\":{\"standoff\":15},\"zerolinecolor\":\"white\",\"zerolinewidth\":2}}},\"geo\":{\"domain\":{\"x\":[0.0,1.0],\"y\":[0.0,1.0]},\"center\":{},\"scope\":\"world\"},\"coloraxis\":{\"colorbar\":{\"title\":{\"text\":\"value_new\"}},\"colorscale\":[[0.0,\"rgb(247,252,240)\"],[0.125,\"rgb(224,243,219)\"],[0.25,\"rgb(204,235,197)\"],[0.375,\"rgb(168,221,181)\"],[0.5,\"rgb(123,204,196)\"],[0.625,\"rgb(78,179,211)\"],[0.75,\"rgb(43,140,190)\"],[0.875,\"rgb(8,104,172)\"],[1.0,\"rgb(8,64,129)\"]],\"cmin\":-10,\"cmax\":45},\"legend\":{\"tracegroupgap\":0},\"title\":{\"text\":\"OECD Kesenjangan Gender\"},\"height\":700,\"updatemenus\":[{\"buttons\":[{\"args\":[null,{\"frame\":{\"duration\":500,\"redraw\":true},\"mode\":\"immediate\",\"fromcurrent\":true,\"transition\":{\"duration\":500,\"easing\":\"linear\"}}],\"label\":\"&#9654;\",\"method\":\"animate\"},{\"args\":[[null],{\"frame\":{\"duration\":0,\"redraw\":true},\"mode\":\"immediate\",\"fromcurrent\":true,\"transition\":{\"duration\":0,\"easing\":\"linear\"}}],\"label\":\"&#9724;\",\"method\":\"animate\"}],\"direction\":\"left\",\"pad\":{\"r\":10,\"t\":70},\"showactive\":false,\"type\":\"buttons\",\"x\":0.1,\"xanchor\":\"right\",\"y\":0,\"yanchor\":\"top\"}],\"sliders\":[{\"active\":0,\"currentvalue\":{\"prefix\":\"time=\"},\"len\":0.9,\"pad\":{\"b\":10,\"t\":60},\"steps\":[{\"args\":[[\"2000\"],{\"frame\":{\"duration\":0,\"redraw\":true},\"mode\":\"immediate\",\"fromcurrent\":true,\"transition\":{\"duration\":0,\"easing\":\"linear\"}}],\"label\":\"2000\",\"method\":\"animate\"},{\"args\":[[\"2001\"],{\"frame\":{\"duration\":0,\"redraw\":true},\"mode\":\"immediate\",\"fromcurrent\":true,\"transition\":{\"duration\":0,\"easing\":\"linear\"}}],\"label\":\"2001\",\"method\":\"animate\"},{\"args\":[[\"2002\"],{\"frame\":{\"duration\":0,\"redraw\":true},\"mode\":\"immediate\",\"fromcurrent\":true,\"transition\":{\"duration\":0,\"easing\":\"linear\"}}],\"label\":\"2002\",\"method\":\"animate\"},{\"args\":[[\"2003\"],{\"frame\":{\"duration\":0,\"redraw\":true},\"mode\":\"immediate\",\"fromcurrent\":true,\"transition\":{\"duration\":0,\"easing\":\"linear\"}}],\"label\":\"2003\",\"method\":\"animate\"},{\"args\":[[\"2004\"],{\"frame\":{\"duration\":0,\"redraw\":true},\"mode\":\"immediate\",\"fromcurrent\":true,\"transition\":{\"duration\":0,\"easing\":\"linear\"}}],\"label\":\"2004\",\"method\":\"animate\"},{\"args\":[[\"2005\"],{\"frame\":{\"duration\":0,\"redraw\":true},\"mode\":\"immediate\",\"fromcurrent\":true,\"transition\":{\"duration\":0,\"easing\":\"linear\"}}],\"label\":\"2005\",\"method\":\"animate\"},{\"args\":[[\"2006\"],{\"frame\":{\"duration\":0,\"redraw\":true},\"mode\":\"immediate\",\"fromcurrent\":true,\"transition\":{\"duration\":0,\"easing\":\"linear\"}}],\"label\":\"2006\",\"method\":\"animate\"},{\"args\":[[\"2007\"],{\"frame\":{\"duration\":0,\"redraw\":true},\"mode\":\"immediate\",\"fromcurrent\":true,\"transition\":{\"duration\":0,\"easing\":\"linear\"}}],\"label\":\"2007\",\"method\":\"animate\"},{\"args\":[[\"2008\"],{\"frame\":{\"duration\":0,\"redraw\":true},\"mode\":\"immediate\",\"fromcurrent\":true,\"transition\":{\"duration\":0,\"easing\":\"linear\"}}],\"label\":\"2008\",\"method\":\"animate\"},{\"args\":[[\"2009\"],{\"frame\":{\"duration\":0,\"redraw\":true},\"mode\":\"immediate\",\"fromcurrent\":true,\"transition\":{\"duration\":0,\"easing\":\"linear\"}}],\"label\":\"2009\",\"method\":\"animate\"},{\"args\":[[\"2010\"],{\"frame\":{\"duration\":0,\"redraw\":true},\"mode\":\"immediate\",\"fromcurrent\":true,\"transition\":{\"duration\":0,\"easing\":\"linear\"}}],\"label\":\"2010\",\"method\":\"animate\"},{\"args\":[[\"2011\"],{\"frame\":{\"duration\":0,\"redraw\":true},\"mode\":\"immediate\",\"fromcurrent\":true,\"transition\":{\"duration\":0,\"easing\":\"linear\"}}],\"label\":\"2011\",\"method\":\"animate\"},{\"args\":[[\"2012\"],{\"frame\":{\"duration\":0,\"redraw\":true},\"mode\":\"immediate\",\"fromcurrent\":true,\"transition\":{\"duration\":0,\"easing\":\"linear\"}}],\"label\":\"2012\",\"method\":\"animate\"},{\"args\":[[\"2013\"],{\"frame\":{\"duration\":0,\"redraw\":true},\"mode\":\"immediate\",\"fromcurrent\":true,\"transition\":{\"duration\":0,\"easing\":\"linear\"}}],\"label\":\"2013\",\"method\":\"animate\"},{\"args\":[[\"2014\"],{\"frame\":{\"duration\":0,\"redraw\":true},\"mode\":\"immediate\",\"fromcurrent\":true,\"transition\":{\"duration\":0,\"easing\":\"linear\"}}],\"label\":\"2014\",\"method\":\"animate\"},{\"args\":[[\"2015\"],{\"frame\":{\"duration\":0,\"redraw\":true},\"mode\":\"immediate\",\"fromcurrent\":true,\"transition\":{\"duration\":0,\"easing\":\"linear\"}}],\"label\":\"2015\",\"method\":\"animate\"},{\"args\":[[\"2016\"],{\"frame\":{\"duration\":0,\"redraw\":true},\"mode\":\"immediate\",\"fromcurrent\":true,\"transition\":{\"duration\":0,\"easing\":\"linear\"}}],\"label\":\"2016\",\"method\":\"animate\"},{\"args\":[[\"2017\"],{\"frame\":{\"duration\":0,\"redraw\":true},\"mode\":\"immediate\",\"fromcurrent\":true,\"transition\":{\"duration\":0,\"easing\":\"linear\"}}],\"label\":\"2017\",\"method\":\"animate\"},{\"args\":[[\"2018\"],{\"frame\":{\"duration\":0,\"redraw\":true},\"mode\":\"immediate\",\"fromcurrent\":true,\"transition\":{\"duration\":0,\"easing\":\"linear\"}}],\"label\":\"2018\",\"method\":\"animate\"},{\"args\":[[\"2019\"],{\"frame\":{\"duration\":0,\"redraw\":true},\"mode\":\"immediate\",\"fromcurrent\":true,\"transition\":{\"duration\":0,\"easing\":\"linear\"}}],\"label\":\"2019\",\"method\":\"animate\"},{\"args\":[[\"2020\"],{\"frame\":{\"duration\":0,\"redraw\":true},\"mode\":\"immediate\",\"fromcurrent\":true,\"transition\":{\"duration\":0,\"easing\":\"linear\"}}],\"label\":\"2020\",\"method\":\"animate\"},{\"args\":[[\"2021\"],{\"frame\":{\"duration\":0,\"redraw\":true},\"mode\":\"immediate\",\"fromcurrent\":true,\"transition\":{\"duration\":0,\"easing\":\"linear\"}}],\"label\":\"2021\",\"method\":\"animate\"}],\"x\":0.1,\"xanchor\":\"left\",\"y\":0,\"yanchor\":\"top\"}]},                        {\"responsive\": true}                    ).then(function(){\n",
              "                            Plotly.addFrames('9de1ef0c-23ff-4727-833a-d6ebc7809ddc', [{\"data\":[{\"coloraxis\":\"coloraxis\",\"geo\":\"geo\",\"hovertemplate\":\"time=2000<br>location=%{location}<br>value_new=%{z}<extra></extra>\",\"locations\":[\"NOR\",\"CAN\",\"USA\",\"GBR\",\"HUN\",\"JPN\",\"FIN\",\"DEU\",\"CHE\",\"KOR\",\"OECD\",\"AUT\",\"SWE\",\"NZL\",\"NZL\",\"AUS\",\"CHL\",\"BEL\"],\"name\":\"\",\"z\":[9,23,23,26,14,33,20,19,23,41,18,23,12,7,35,17,6,13],\"type\":\"choropleth\"}],\"name\":\"2000\"},{\"data\":[{\"coloraxis\":\"coloraxis\",\"geo\":\"geo\",\"hovertemplate\":\"time=2001<br>location=%{location}<br>value_new=%{z}<extra></extra>\",\"locations\":[\"NZL\",\"NZL\",\"SWE\",\"GBR\",\"DEU\",\"USA\",\"POL\",\"JPN\",\"KOR\",\"FIN\",\"CZE\",\"CAN\",\"AUS\",\"NOR\",\"OECD\",\"AUT\",\"ISR\",\"HUN\",\"BEL\"],\"name\":\"\",\"z\":[8,30,12,25,19,23,14,33,40,21,16,24,14,9,17,22,27,13,13],\"type\":\"choropleth\"}],\"name\":\"2001\"},{\"data\":[{\"coloraxis\":\"coloraxis\",\"geo\":\"geo\",\"hovertemplate\":\"time=2002<br>location=%{location}<br>value_new=%{z}<extra></extra>\",\"locations\":[\"NOR\",\"FRA\",\"FIN\",\"LUX\",\"CHE\",\"LTU\",\"USA\",\"CYP\",\"POL\",\"DEU\",\"SVK\",\"IRL\",\"AUT\",\"ISR\",\"HUN\",\"PRT\",\"OECD\",\"ITA\",\"EST\",\"ESP\",\"CAN\",\"GRC\",\"LVA\",\"JPN\",\"SWE\",\"KOR\",\"CZE\",\"ISL\",\"DNK\",\"GBR\",\"BEL\",\"EU27\",\"NZL\",\"NZL\",\"SVN\",\"ROU\",\"NLD\",\"AUS\",\"BGR\",\"MLT\"],\"name\":\"\",\"z\":[9,13,20,15,22,15,22,31,11,18,20,17,24,24,9,21,17,15,25,17,24,23,18,32,11,41,15,28,10,24,11,16,7,27,9,16,15,15,12,13],\"type\":\"choropleth\"}],\"name\":\"2002\"},{\"data\":[{\"coloraxis\":\"coloraxis\",\"geo\":\"geo\",\"hovertemplate\":\"time=2003<br>location=%{location}<br>value_new=%{z}<extra></extra>\",\"locations\":[\"NOR\",\"CZE\",\"CAN\",\"NZL\",\"OECD\",\"EST\",\"LUX\",\"JPN\",\"SWE\",\"FRA\",\"KOR\",\"BEL\",\"AUT\",\"FIN\",\"NZL\",\"DEU\",\"SWE\",\"DNK\",\"USA\",\"CHL\",\"AUT\",\"ISR\",\"AUS\",\"NOR\",\"ISL\",\"DNK\",\"SVK\",\"FIN\",\"HUN\",\"EU27\",\"IRL\",\"BEL\",\"GBR\"],\"name\":\"\",\"z\":[32,15,22,7,16,18,4,31,5,37,40,42,5,32,29,19,11,9,20,16,21,25,13,9,4,9,20,20,14,15,25,15,24],\"type\":\"choropleth\"}],\"name\":\"2003\"},{\"data\":[{\"coloraxis\":\"coloraxis\",\"geo\":\"geo\",\"hovertemplate\":\"time=2004<br>location=%{location}<br>value_new=%{z}<extra></extra>\",\"locations\":[\"IRL\",\"NZL\",\"AUT\",\"LTU\",\"SVK\",\"CZE\",\"ISL\",\"BEL\",\"JPN\",\"EU27\",\"OECD\",\"NZL\",\"SWE\",\"AUT\",\"HUN\",\"DNK\",\"DNK\",\"SVK\",\"HUN\",\"CAN\",\"AUS\",\"SWE\",\"ISR\",\"BEL\",\"POL\",\"USA\",\"GBR\",\"FRA\",\"EST\",\"NLD\",\"FIN\",\"KOR\",\"NOR\",\"CZE\",\"NOR\",\"FIN\",\"DEU\",\"CHE\",\"POL\",\"SVN\",\"LUX\",\"GBR\"],\"name\":\"\",\"z\":[28,33,4,29,20,16,40,11,31,15,16,8,13,22,29,10,6,21,30,22,14,10,25,4,10,19,23,33,14,37,20,39,32,32,8,35,21,22,5,28,4,4],\"type\":\"choropleth\"}],\"name\":\"2004\"},{\"data\":[{\"coloraxis\":\"coloraxis\",\"geo\":\"geo\",\"hovertemplate\":\"time=2005<br>location=%{location}<br>value_new=%{z}<extra></extra>\",\"locations\":[\"CAN\",\"BEL\",\"NLD\",\"LUX\",\"FIN\",\"GBR\",\"POL\",\"BEL\",\"USA\",\"ESP\",\"AUT\",\"AUS\",\"NOR\",\"HUN\",\"SVK\",\"MEX\",\"FRA\",\"EST\",\"HUN\",\"DNK\",\"SWE\",\"DEU\",\"SVN\",\"AUT\",\"LTU\",\"CZE\",\"FIN\",\"CZE\",\"EU27\",\"USA\",\"KOR\",\"NZL\",\"JPN\",\"GBR\",\"ISL\",\"ISR\",\"SWE\",\"OECD\",\"IRL\",\"DNK\",\"NOR\",\"SVK\",\"NZL\"],\"name\":\"\",\"z\":[21,4,38,37,18,4,5,11,18,38,22,15,30,40,19,16,31,9,26,10,11,16,29,4,27,30,41,15,14,6,39,35,32,22,34,21,18,16,28,12,8,20,9],\"type\":\"choropleth\"}],\"name\":\"2005\"},{\"data\":[{\"coloraxis\":\"coloraxis\",\"geo\":\"geo\",\"hovertemplate\":\"time=2006<br>location=%{location}<br>value_new=%{z}<extra></extra>\",\"locations\":[\"IRL\",\"IRL\",\"ISR\",\"MEX\",\"LUX\",\"SVK\",\"NOR\",\"BEL\",\"ITA\",\"POL\",\"NLD\",\"JPN\",\"KOR\",\"NZL\",\"NZL\",\"CAN\",\"PRT\",\"POL\",\"OECD\",\"NLD\",\"ISL\",\"LUX\",\"CAN\",\"CHL\",\"EST\",\"EU27\",\"BEL\",\"PRT\",\"USA\",\"CYP\",\"NOR\",\"EST\",\"ITA\",\"SVN\",\"CZE\",\"FRA\",\"SWE\",\"LVA\",\"CZE\",\"DEU\",\"SVN\",\"DNK\",\"LTU\",\"HUN\",\"ESP\",\"GRC\",\"FIN\",\"HUN\",\"SWE\",\"GRC\",\"ROU\",\"AUT\",\"LVA\",\"USA\",\"MLT\",\"ESP\",\"AUT\",\"GBR\",\"CHE\",\"ISL\",\"SVK\",\"FIN\",\"DNK\",\"LTU\",\"AUS\",\"GBR\",\"TUR\",\"FRA\"],\"name\":\"\",\"z\":[33,19,21,18,7,23,8,4,4,11,15,32,39,33,9,42,6,5,15,42,23,42,21,5,27,13,10,12,19,30,27,24,10,6,15,9,11,17,28,18,29,10,21,3,13,41,39,26,19,17,8,4,8,41,7,37,21,4,21,28,17,19,12,16,16,21,32,32],\"type\":\"choropleth\"}],\"name\":\"2006\"},{\"data\":[{\"coloraxis\":\"coloraxis\",\"geo\":\"geo\",\"hovertemplate\":\"time=2007<br>location=%{location}<br>value_new=%{z}<extra></extra>\",\"locations\":[\"JPN\",\"GBR\",\"USA\",\"MEX\",\"AUT\",\"GRC\",\"FIN\",\"NOR\",\"CZE\",\"NOR\",\"FIN\",\"FRA\",\"CHE\",\"EST\",\"POL\",\"ISR\",\"LUX\",\"KOR\",\"NZL\",\"SWE\",\"USA\",\"CZE\",\"GBR\",\"COL\",\"BEL\",\"DEU\",\"NLD\",\"LTU\",\"CAN\",\"AUT\",\"HUN\",\"SVK\",\"SVK\",\"BEL\",\"AUS\",\"CAN\",\"DNK\",\"NZL\",\"DNK\",\"LVA\",\"OECD\",\"EU27\",\"IRL\",\"ISL\",\"ESP\",\"ITA\",\"SWE\",\"SVN\",\"HUN\",\"PRT\"],\"name\":\"\",\"z\":[31,39,4,12,4,39,21,8,16,26,39,36,5,-7,5,20,4,38,36,11,19,29,21,13,41,16,4,16,4,21,23,26,17,9,15,20,9,7,17,23,14,13,29,24,36,4,12,28,36,6],\"type\":\"choropleth\"}],\"name\":\"2007\"},{\"data\":[{\"coloraxis\":\"coloraxis\",\"geo\":\"geo\",\"hovertemplate\":\"time=2008<br>location=%{location}<br>value_new=%{z}<extra></extra>\",\"locations\":[\"AUS\",\"EST\",\"FRA\",\"ITA\",\"NOR\",\"HUN\",\"CHE\",\"GBR\",\"NZL\",\"SVK\",\"NLD\",\"GBR\",\"SVK\",\"USA\",\"DNK\",\"NOR\",\"IRL\",\"FIN\",\"MEX\",\"ISL\",\"CHE\",\"CZE\",\"ISR\",\"AUT\",\"LUX\",\"SWE\",\"POL\",\"CAN\",\"SWE\",\"PRT\",\"USA\",\"NZL\",\"JPN\",\"OECD\",\"GRC\",\"HUN\",\"POL\",\"DNK\",\"DEU\",\"ESP\",\"BEL\",\"LVA\",\"AUT\",\"COL\",\"CAN\",\"FIN\",\"KOR\",\"BEL\",\"EU27\",\"CZE\",\"SVN\",\"LTU\"],\"name\":\"\",\"z\":[11,-2,35,4,28,22,5,38,34,29,41,21,16,20,11,8,26,21,22,20,21,17,22,20,4,10,5,20,9,6,4,8,30,14,38,27,12,10,16,31,35,24,4,17,4,36,39,8,13,29,27,7],\"type\":\"choropleth\"}],\"name\":\"2008\"},{\"data\":[{\"coloraxis\":\"coloraxis\",\"geo\":\"geo\",\"hovertemplate\":\"time=2009<br>location=%{location}<br>value_new=%{z}<extra></extra>\",\"locations\":[\"NOR\",\"DNK\",\"NZL\",\"USA\",\"NZL\",\"SVN\",\"NLD\",\"CZE\",\"AUS\",\"DNK\",\"BEL\",\"FIN\",\"COL\",\"CHL\",\"AUT\",\"GBR\",\"KOR\",\"JPN\",\"DEU\",\"GRC\",\"USA\",\"SWE\",\"CAN\",\"PRT\",\"OECD\",\"HUN\",\"ESP\",\"CAN\",\"LVA\",\"EU27\",\"ITA\",\"HUN\",\"SVK\",\"SVK\",\"AUT\",\"IRL\",\"ISR\",\"EST\",\"BEL\",\"ISL\",\"LUX\",\"MEX\",\"FIN\",\"POL\",\"NOR\",\"CZE\",\"LTU\",\"FRA\",\"CHE\",\"SWE\",\"GBR\"],\"name\":\"\",\"z\":[28,10,35,19,8,29,35,15,16,16,7,35,33,9,4,38,38,28,16,42,4,15,4,5,14,32,29,20,22,12,4,38,16,31,19,19,21,-2,32,15,36,16,19,6,8,29,30,31,5,9,20],\"type\":\"choropleth\"}],\"name\":\"2009\"},{\"data\":[{\"coloraxis\":\"coloraxis\",\"geo\":\"geo\",\"hovertemplate\":\"time=2010<br>location=%{location}<br>value_new=%{z}<extra></extra>\",\"locations\":[\"USA\",\"EU27\",\"PRT\",\"BGR\",\"SVK\",\"NOR\",\"SVK\",\"AUT\",\"GBR\",\"AUT\",\"ESP\",\"BEL\",\"ESP\",\"CHE\",\"PRT\",\"SWE\",\"GBR\",\"SWE\",\"AUS\",\"USA\",\"TUR\",\"POL\",\"NZL\",\"POL\",\"NOR\",\"CHE\",\"HRV\",\"HUN\",\"FRA\",\"LTU\",\"NLD\",\"ROU\",\"CZE\",\"IRL\",\"ITA\",\"EST\",\"ITA\",\"MEX\",\"CAN\",\"DEU\",\"LUX\",\"CAN\",\"CYP\",\"JPN\",\"CZE\",\"FRA\",\"LUX\",\"SVN\",\"LTU\",\"KOR\",\"EST\",\"OECD\",\"MLT\",\"IRL\",\"FIN\",\"FIN\",\"BEL\",\"NZL\",\"ISL\",\"HUN\",\"SVN\",\"DNK\",\"NLD\",\"GRC\",\"DNK\",\"GRC\",\"LVA\",\"COL\",\"LVA\",\"ISR\",\"ISL\"],\"name\":\"\",\"z\":[18,12,16,6,14,7,30,19,19,4,24,30,13,5,5,9,40,17,14,4,31,7,7,6,26,20,38,34,9,-3,30,9,29,14,5,27,5,11,18,16,4,4,24,28,15,29,25,9,10,39,-3,13,7,21,33,18,7,34,16,6,32,8,17,9,17,4,19,6,19,20,11],\"type\":\"choropleth\"}],\"name\":\"2010\"},{\"data\":[{\"coloraxis\":\"coloraxis\",\"geo\":\"geo\",\"hovertemplate\":\"time=2011<br>location=%{location}<br>value_new=%{z}<extra></extra>\",\"locations\":[\"EU27\",\"HUN\",\"USA\",\"OECD\",\"CHE\",\"ESP\",\"AUT\",\"BEL\",\"FIN\",\"JPN\",\"LVA\",\"EST\",\"IRL\",\"CAN\",\"DEU\",\"ISL\",\"SVK\",\"ISR\",\"SVK\",\"LTU\",\"SWE\",\"ITA\",\"SWE\",\"GRC\",\"HUN\",\"GBR\",\"FRA\",\"CAN\",\"AUT\",\"PRT\",\"CHL\",\"AUS\",\"FIN\",\"CRI\",\"DNK\",\"NOR\",\"NLD\",\"MEX\",\"GBR\",\"NOR\",\"COL\",\"USA\",\"CZE\",\"DNK\",\"LUX\",\"CZE\",\"POL\",\"NZL\",\"NZL\",\"SVN\",\"BEL\",\"KOR\"],\"name\":\"\",\"z\":[12,32,4,13,4,23,4,32,18,27,22,-2,23,19,16,17,32,19,15,7,17,5,9,4,6,18,30,4,18,5,16,15,34,4,7,25,27,10,39,7,35,17,16,22,22,31,6,4,31,33,5,36],\"type\":\"choropleth\"}],\"name\":\"2011\"},{\"data\":[{\"coloraxis\":\"coloraxis\",\"geo\":\"geo\",\"hovertemplate\":\"time=2012<br>location=%{location}<br>value_new=%{z}<extra></extra>\",\"locations\":[\"AUT\",\"DEU\",\"EU27\",\"SVN\",\"ISL\",\"DNK\",\"SVK\",\"IRL\",\"USA\",\"HUN\",\"NOR\",\"NLD\",\"SWE\",\"NZL\",\"ISR\",\"LVA\",\"COL\",\"SVK\",\"AUS\",\"NZL\",\"GRC\",\"HUN\",\"ESP\",\"DNK\",\"CAN\",\"BRA\",\"FIN\",\"USA\",\"EST\",\"JPN\",\"LUX\",\"CZE\",\"CRI\",\"CAN\",\"NOR\",\"FRA\",\"PRT\",\"CZE\",\"KOR\",\"POL\",\"BEL\",\"GBR\",\"MEX\",\"FIN\",\"BEL\",\"AUT\",\"LTU\",\"OECD\",\"ITA\",\"CHE\",\"POL\",\"GBR\",\"SWE\",\"CHE\"],\"name\":\"\",\"z\":[4,16,12,31,24,6,32,29,4,25,18,26,12,5,20,20,8,15,13,32,39,11,23,23,19,15,18,19,-2,26,16,15,5,4,5,30,5,31,36,10,6,36,13,34,34,18,5,13,5,19,6,17,9,5],\"type\":\"choropleth\"}],\"name\":\"2012\"},{\"data\":[{\"coloraxis\":\"coloraxis\",\"geo\":\"geo\",\"hovertemplate\":\"time=2013<br>location=%{location}<br>value_new=%{z}<extra></extra>\",\"locations\":[\"SVN\",\"LTU\",\"LVA\",\"FIN\",\"CHE\",\"DNK\",\"SWE\",\"DNK\",\"GRC\",\"FRA\",\"EU27\",\"AUT\",\"AUS\",\"BRA\",\"GBR\",\"SWE\",\"DEU\",\"GBR\",\"FIN\",\"CZE\",\"CZE\",\"SVK\",\"USA\",\"ISL\",\"USA\",\"SVK\",\"BEL\",\"IRL\",\"AUT\",\"MEX\",\"ITA\",\"NOR\",\"PRT\",\"LUX\",\"CAN\",\"JPN\",\"KOR\",\"EST\",\"OECD\",\"POL\",\"ISR\",\"NOR\",\"BEL\",\"CHL\",\"COL\",\"NZL\",\"HUN\",\"NZL\",\"HUN\",\"NLD\",\"ESP\",\"CAN\"],\"name\":\"\",\"z\":[30,14,20,20,4,6,18,-8,36,24,12,4,18,16,17,9,14,32,30,29,15,14,4,25,17,35,32,33,18,15,5,6,4,11,40,26,36,-2,13,6,20,18,5,10,7,6,21,32,8,22,24,19],\"type\":\"choropleth\"}],\"name\":\"2013\"},{\"data\":[{\"coloraxis\":\"coloraxis\",\"geo\":\"geo\",\"hovertemplate\":\"time=2014<br>location=%{location}<br>value_new=%{z}<extra></extra>\",\"locations\":[\"NLD\",\"LUX\",\"NZL\",\"TUR\",\"CZE\",\"SVN\",\"KOR\",\"CHE\",\"NZL\",\"SVN\",\"POL\",\"CYP\",\"NOR\",\"LTU\",\"CZE\",\"BRA\",\"AUS\",\"NOR\",\"DNK\",\"ROU\",\"COL\",\"USA\",\"NLD\",\"MEX\",\"GBR\",\"BGR\",\"DNK\",\"LUX\",\"FIN\",\"MLT\",\"DEU\",\"CRI\",\"FIN\",\"BEL\",\"SVK\",\"BEL\",\"ISL\",\"DEU\",\"LVA\",\"AUT\",\"EU27\",\"ISR\",\"FRA\",\"SVK\",\"SWE\",\"CAN\",\"HUN\",\"GRC\",\"LVA\",\"GRC\",\"ESP\",\"USA\",\"HUN\",\"IRL\",\"ISL\",\"PRT\",\"OECD\",\"ESP\",\"LTU\",\"EST\",\"CHE\",\"JPN\",\"POL\",\"IRL\",\"CAN\",\"PRT\",\"ITA\",\"ITA\",\"AUT\",\"GBR\",\"FRA\",\"SWE\",\"EST\"],\"name\":\"\",\"z\":[24,4,6,6,29,4,36,16,36,30,5,13,5,12,16,16,15,14,6,15,9,17,15,18,32,40,5,34,25,8,37,5,19,31,31,32,16,17,21,4,10,20,9,14,16,19,18,34,18,7,28,4,37,36,13,15,13,11,9,-2,42,25,11,10,39,40,6,5,17,17,23,9,28],\"type\":\"choropleth\"}],\"name\":\"2014\"},{\"data\":[{\"coloraxis\":\"coloraxis\",\"geo\":\"geo\",\"hovertemplate\":\"time=2015<br>location=%{location}<br>value_new=%{z}<extra></extra>\",\"locations\":[\"EU27\",\"SVN\",\"USA\",\"COL\",\"LTU\",\"DEU\",\"CRI\",\"CHL\",\"EST\",\"USA\",\"GBR\",\"BRA\",\"OECD\",\"LVA\",\"ISR\",\"NZL\",\"BEL\",\"HUN\",\"NZL\",\"LUX\",\"HUN\",\"CAN\",\"ESP\",\"GRC\",\"CAN\",\"DEU\",\"CZE\",\"SVK\",\"FRA\",\"CZE\",\"NOR\",\"SVK\",\"NOR\",\"DNK\",\"FIN\",\"PRT\",\"DNK\",\"FIN\",\"SWE\",\"ISL\",\"POL\",\"JPN\",\"BEL\",\"SWE\",\"GBR\",\"IRL\",\"MEX\",\"KOR\",\"AUS\",\"AUT\",\"CHE\",\"AUT\",\"NLD\",\"ITA\"],\"name\":\"\",\"z\":[12,32,4,11,15,34,37,14,-1,18,17,15,13,20,20,36,4,9,7,7,18,36,26,33,18,16,29,13,20,16,24,25,6,5,18,41,5,23,17,11,5,25,29,8,32,38,16,37,13,17,41,5,28,4],\"type\":\"choropleth\"}],\"name\":\"2015\"},{\"data\":[{\"coloraxis\":\"coloraxis\",\"geo\":\"geo\",\"hovertemplate\":\"time=2016<br>location=%{location}<br>value_new=%{z}<extra></extra>\",\"locations\":[\"MEX\",\"NOR\",\"LTU\",\"HUN\",\"NOR\",\"FIN\",\"FIN\",\"KOR\",\"JPN\",\"CRI\",\"USA\",\"EST\",\"ISL\",\"COL\",\"DEU\",\"ITA\",\"GRC\",\"LVA\",\"NLD\",\"HUN\",\"NZL\",\"IRL\",\"ISR\",\"NZL\",\"FRA\",\"GBR\",\"DNK\",\"LUX\",\"USA\",\"BEL\",\"SWE\",\"EU27\",\"CAN\",\"POL\",\"ESP\",\"AUT\",\"BEL\",\"CAN\",\"CHE\",\"SVK\",\"OECD\",\"CZE\",\"SVK\",\"CZE\",\"AUS\",\"CHE\",\"SWE\",\"SVN\",\"BRA\",\"DNK\",\"PRT\",\"AUT\",\"POL\",\"DEU\",\"GBR\"],\"name\":\"\",\"z\":[16,9,17,9,6,16,25,36,24,17,18,-5,15,7,15,4,33,27,32,11,7,35,21,36,17,34,5,11,4,37,8,11,33,5,25,5,28,18,4,13,13,31,17,16,13,14,16,33,14,8,42,15,9,28,16],\"type\":\"choropleth\"}],\"name\":\"2016\"},{\"data\":[{\"coloraxis\":\"coloraxis\",\"geo\":\"geo\",\"hovertemplate\":\"time=2017<br>location=%{location}<br>value_new=%{z}<extra></extra>\",\"locations\":[\"AUT\",\"GBR\",\"EU27\",\"EST\",\"ARG\",\"AUS\",\"JPN\",\"BRA\",\"KOR\",\"ITA\",\"AUT\",\"DNK\",\"DEU\",\"DNK\",\"FIN\",\"CZE\",\"FIN\",\"LTU\",\"SVN\",\"CZE\",\"FRA\",\"ISL\",\"CAN\",\"CAN\",\"LVA\",\"GRC\",\"BEL\",\"HUN\",\"OECD\",\"BEL\",\"HUN\",\"DEU\",\"ISR\",\"IRL\",\"LUX\",\"USA\",\"SVK\",\"MEX\",\"SWE\",\"CRI\",\"NZL\",\"ESP\",\"POL\",\"CHE\",\"CHL\",\"NOR\",\"NZL\",\"USA\",\"GBR\",\"NLD\",\"SVK\",\"PRT\",\"NOR\",\"SWE\",\"COL\"],\"name\":\"\",\"z\":[4,34,11,19,7,13,24,13,34,4,15,5,26,29,25,15,17,29,38,32,11,21,18,33,29,35,41,9,12,27,5,14,21,35,15,42,15,11,7,29,35,24,5,4,12,5,7,18,16,30,13,4,12,11,7],\"type\":\"choropleth\"}],\"name\":\"2017\"},{\"data\":[{\"coloraxis\":\"coloraxis\",\"geo\":\"geo\",\"hovertemplate\":\"time=2018<br>location=%{location}<br>value_new=%{z}<extra></extra>\",\"locations\":[\"FRA\",\"MLT\",\"USA\",\"DEU\",\"LVA\",\"ESP\",\"OECD\",\"BEL\",\"LVA\",\"NZL\",\"FRA\",\"USA\",\"CAN\",\"FIN\",\"SVN\",\"PRT\",\"DNK\",\"POL\",\"POL\",\"CZE\",\"SVN\",\"ROU\",\"DNK\",\"SVK\",\"CAN\",\"FIN\",\"SVK\",\"LTU\",\"NOR\",\"LTU\",\"NOR\",\"BEL\",\"CZE\",\"BGR\",\"ESP\",\"SWE\",\"GRC\",\"MEX\",\"ITA\",\"EU27\",\"EST\",\"COL\",\"ARG\",\"JPN\",\"AUS\",\"CRI\",\"LUX\",\"HRV\",\"KOR\",\"CHE\",\"CHE\",\"TUR\",\"BRA\",\"CYP\",\"IRL\",\"NLD\",\"EST\",\"ISR\",\"GRC\",\"DEU\",\"SWE\",\"HUN\",\"AUT\",\"NZL\",\"HUN\",\"PRT\",\"GBR\",\"ISL\",\"NLD\",\"AUT\"],\"name\":\"\",\"z\":[8,11,18,15,20,26,12,27,32,7,11,39,31,18,39,41,8,11,4,32,8,34,4,12,18,20,15,11,5,30,14,34,15,30,8,7,38,14,5,10,21,5,11,23,13,4,19,7,34,4,15,9,10,15,8,28,22,22,5,25,15,10,14,33,5,11,16,12,12,40],\"type\":\"choropleth\"}],\"name\":\"2018\"},{\"data\":[{\"coloraxis\":\"coloraxis\",\"geo\":\"geo\",\"hovertemplate\":\"time=2019<br>location=%{location}<br>value_new=%{z}<extra></extra>\",\"locations\":[\"SVK\",\"PRT\",\"BRA\",\"SVN\",\"BEL\",\"SWE\",\"SWE\",\"CZE\",\"OECD\",\"ESP\",\"AUT\",\"BEL\",\"ARG\",\"AUS\",\"SVK\",\"EU27\",\"CAN\",\"GBR\",\"AUT\",\"CAN\",\"USA\",\"HRV\",\"CZE\",\"ISR\",\"FIN\",\"NLD\",\"NLD\",\"USA\",\"LVA\",\"DEU\",\"HUN\",\"NZL\",\"LVA\",\"GRC\",\"PRT\",\"GRC\",\"BGR\",\"NZL\",\"ITA\",\"LTU\",\"HUN\",\"COL\",\"CYP\",\"DNK\",\"KOR\",\"ROU\",\"NOR\",\"JPN\",\"DNK\",\"LUX\",\"NOR\",\"FIN\"],\"name\":\"\",\"z\":[13,11,6,39,37,7,5,32,12,28,14,26,12,15,11,10,17,16,36,32,38,7,14,24,17,27,13,18,19,13,12,6,27,39,40,5,33,30,7,32,16,40,16,8,32,5,18,23,5,20,4,18],\"type\":\"choropleth\"}],\"name\":\"2019\"},{\"data\":[{\"coloraxis\":\"coloraxis\",\"geo\":\"geo\",\"hovertemplate\":\"time=2020<br>location=%{location}<br>value_new=%{z}<extra></extra>\",\"locations\":[\"HUN\",\"ARG\",\"JPN\",\"NLD\",\"SWE\",\"BRA\",\"EU27\",\"KOR\",\"CHE\",\"CYP\",\"GBR\",\"CHL\",\"EST\",\"ESP\",\"NOR\",\"ROU\",\"POL\",\"CAN\",\"AUT\",\"LTU\",\"SVK\",\"PRT\",\"USA\",\"DNK\",\"FIN\",\"CZE\",\"NZL\",\"USA\",\"DEU\",\"OECD\",\"BGR\"],\"name\":\"\",\"z\":[12,6,22,13,7,6,10,31,13,16,11,8,19,8,4,33,8,16,12,9,11,11,41,4,15,12,4,17,14,11,25],\"type\":\"choropleth\"}],\"name\":\"2020\"},{\"data\":[{\"coloraxis\":\"coloraxis\",\"geo\":\"geo\",\"hovertemplate\":\"time=2021<br>location=%{location}<br>value_new=%{z}<extra></extra>\",\"locations\":[\"KOR\",\"JPN\",\"CZE\",\"GBR\",\"NOR\",\"CAN\",\"SVK\",\"MEX\",\"NZL\",\"USA\",\"ARG\",\"BRA\"],\"name\":\"\",\"z\":[31,22,11,14,4,16,11,12,6,16,6,9],\"type\":\"choropleth\"}],\"name\":\"2021\"}]);\n",
              "                        }).then(function(){\n",
              "                            \n",
              "var gd = document.getElementById('9de1ef0c-23ff-4727-833a-d6ebc7809ddc');\n",
              "var x = new MutationObserver(function (mutations, observer) {{\n",
              "        var display = window.getComputedStyle(gd).display;\n",
              "        if (!display || display === 'none') {{\n",
              "            console.log([gd, 'removed!']);\n",
              "            Plotly.purge(gd);\n",
              "            observer.disconnect();\n",
              "        }}\n",
              "}});\n",
              "\n",
              "// Listen for the removal of the full notebook cells\n",
              "var notebookContainer = gd.closest('#notebook-container');\n",
              "if (notebookContainer) {{\n",
              "    x.observe(notebookContainer, {childList: true});\n",
              "}}\n",
              "\n",
              "// Listen for the clearing of the current output cell\n",
              "var outputEl = gd.closest('.output');\n",
              "if (outputEl) {{\n",
              "    x.observe(outputEl, {childList: true});\n",
              "}}\n",
              "\n",
              "                        })                };                            </script>        </div>\n",
              "</body>\n",
              "</html>"
            ]
          },
          "metadata": {},
          "output_type": "display_data"
        }
      ],
      "source": [
        "fig = px.choropleth(df1,locations='location',color='value_new',scope='world',color_continuous_scale=px.colors.sequential.GnBu,\n",
        "                    range_color=(-10,45),title='OECD Kesenjangan Gender',height=700,animation_frame ='time'\n",
        "    )\n",
        "fig.show()"
      ]
    },
    {
      "cell_type": "markdown",
      "metadata": {
        "id": "o6ELEuwkIB-_"
      },
      "source": [
        "**Selanjutnya mari fokus ke negara Jepang**"
      ]
    },
    {
      "cell_type": "code",
      "execution_count": 28,
      "metadata": {
        "id": "c3wVN1BpIE-d"
      },
      "outputs": [],
      "source": [
        "df_jap=df1[df1['location']=='JPN']"
      ]
    },
    {
      "cell_type": "code",
      "execution_count": 29,
      "metadata": {
        "colab": {
          "base_uri": "https://localhost:8080/",
          "height": 206
        },
        "id": "cfM2W8PUIFho",
        "outputId": "a3eb6a59-3216-4e55-ef13-2f936c321aeb"
      },
      "outputs": [
        {
          "data": {
            "text/html": [
              "\n",
              "  <div id=\"df-bf4f5ced-5aca-49e9-a04e-87e50277206f\">\n",
              "    <div class=\"colab-df-container\">\n",
              "      <div>\n",
              "<style scoped>\n",
              "    .dataframe tbody tr th:only-of-type {\n",
              "        vertical-align: middle;\n",
              "    }\n",
              "\n",
              "    .dataframe tbody tr th {\n",
              "        vertical-align: top;\n",
              "    }\n",
              "\n",
              "    .dataframe thead th {\n",
              "        text-align: right;\n",
              "    }\n",
              "</style>\n",
              "<table border=\"1\" class=\"dataframe\">\n",
              "  <thead>\n",
              "    <tr style=\"text-align: right;\">\n",
              "      <th></th>\n",
              "      <th>location</th>\n",
              "      <th>subject</th>\n",
              "      <th>time</th>\n",
              "      <th>value_new</th>\n",
              "    </tr>\n",
              "  </thead>\n",
              "  <tbody>\n",
              "    <tr>\n",
              "      <th>492</th>\n",
              "      <td>JPN</td>\n",
              "      <td>EMPLOYEE</td>\n",
              "      <td>2000</td>\n",
              "      <td>33</td>\n",
              "    </tr>\n",
              "    <tr>\n",
              "      <th>493</th>\n",
              "      <td>JPN</td>\n",
              "      <td>EMPLOYEE</td>\n",
              "      <td>2001</td>\n",
              "      <td>33</td>\n",
              "    </tr>\n",
              "    <tr>\n",
              "      <th>494</th>\n",
              "      <td>JPN</td>\n",
              "      <td>EMPLOYEE</td>\n",
              "      <td>2002</td>\n",
              "      <td>32</td>\n",
              "    </tr>\n",
              "    <tr>\n",
              "      <th>495</th>\n",
              "      <td>JPN</td>\n",
              "      <td>EMPLOYEE</td>\n",
              "      <td>2003</td>\n",
              "      <td>31</td>\n",
              "    </tr>\n",
              "    <tr>\n",
              "      <th>496</th>\n",
              "      <td>JPN</td>\n",
              "      <td>EMPLOYEE</td>\n",
              "      <td>2004</td>\n",
              "      <td>31</td>\n",
              "    </tr>\n",
              "  </tbody>\n",
              "</table>\n",
              "</div>\n",
              "      <button class=\"colab-df-convert\" onclick=\"convertToInteractive('df-bf4f5ced-5aca-49e9-a04e-87e50277206f')\"\n",
              "              title=\"Convert this dataframe to an interactive table.\"\n",
              "              style=\"display:none;\">\n",
              "        \n",
              "  <svg xmlns=\"http://www.w3.org/2000/svg\" height=\"24px\"viewBox=\"0 0 24 24\"\n",
              "       width=\"24px\">\n",
              "    <path d=\"M0 0h24v24H0V0z\" fill=\"none\"/>\n",
              "    <path d=\"M18.56 5.44l.94 2.06.94-2.06 2.06-.94-2.06-.94-.94-2.06-.94 2.06-2.06.94zm-11 1L8.5 8.5l.94-2.06 2.06-.94-2.06-.94L8.5 2.5l-.94 2.06-2.06.94zm10 10l.94 2.06.94-2.06 2.06-.94-2.06-.94-.94-2.06-.94 2.06-2.06.94z\"/><path d=\"M17.41 7.96l-1.37-1.37c-.4-.4-.92-.59-1.43-.59-.52 0-1.04.2-1.43.59L10.3 9.45l-7.72 7.72c-.78.78-.78 2.05 0 2.83L4 21.41c.39.39.9.59 1.41.59.51 0 1.02-.2 1.41-.59l7.78-7.78 2.81-2.81c.8-.78.8-2.07 0-2.86zM5.41 20L4 18.59l7.72-7.72 1.47 1.35L5.41 20z\"/>\n",
              "  </svg>\n",
              "      </button>\n",
              "      \n",
              "  <style>\n",
              "    .colab-df-container {\n",
              "      display:flex;\n",
              "      flex-wrap:wrap;\n",
              "      gap: 12px;\n",
              "    }\n",
              "\n",
              "    .colab-df-convert {\n",
              "      background-color: #E8F0FE;\n",
              "      border: none;\n",
              "      border-radius: 50%;\n",
              "      cursor: pointer;\n",
              "      display: none;\n",
              "      fill: #1967D2;\n",
              "      height: 32px;\n",
              "      padding: 0 0 0 0;\n",
              "      width: 32px;\n",
              "    }\n",
              "\n",
              "    .colab-df-convert:hover {\n",
              "      background-color: #E2EBFA;\n",
              "      box-shadow: 0px 1px 2px rgba(60, 64, 67, 0.3), 0px 1px 3px 1px rgba(60, 64, 67, 0.15);\n",
              "      fill: #174EA6;\n",
              "    }\n",
              "\n",
              "    [theme=dark] .colab-df-convert {\n",
              "      background-color: #3B4455;\n",
              "      fill: #D2E3FC;\n",
              "    }\n",
              "\n",
              "    [theme=dark] .colab-df-convert:hover {\n",
              "      background-color: #434B5C;\n",
              "      box-shadow: 0px 1px 3px 1px rgba(0, 0, 0, 0.15);\n",
              "      filter: drop-shadow(0px 1px 2px rgba(0, 0, 0, 0.3));\n",
              "      fill: #FFFFFF;\n",
              "    }\n",
              "  </style>\n",
              "\n",
              "      <script>\n",
              "        const buttonEl =\n",
              "          document.querySelector('#df-bf4f5ced-5aca-49e9-a04e-87e50277206f button.colab-df-convert');\n",
              "        buttonEl.style.display =\n",
              "          google.colab.kernel.accessAllowed ? 'block' : 'none';\n",
              "\n",
              "        async function convertToInteractive(key) {\n",
              "          const element = document.querySelector('#df-bf4f5ced-5aca-49e9-a04e-87e50277206f');\n",
              "          const dataTable =\n",
              "            await google.colab.kernel.invokeFunction('convertToInteractive',\n",
              "                                                     [key], {});\n",
              "          if (!dataTable) return;\n",
              "\n",
              "          const docLinkHtml = 'Like what you see? Visit the ' +\n",
              "            '<a target=\"_blank\" href=https://colab.research.google.com/notebooks/data_table.ipynb>data table notebook</a>'\n",
              "            + ' to learn more about interactive tables.';\n",
              "          element.innerHTML = '';\n",
              "          dataTable['output_type'] = 'display_data';\n",
              "          await google.colab.output.renderOutput(dataTable, element);\n",
              "          const docLink = document.createElement('div');\n",
              "          docLink.innerHTML = docLinkHtml;\n",
              "          element.appendChild(docLink);\n",
              "        }\n",
              "      </script>\n",
              "    </div>\n",
              "  </div>\n",
              "  "
            ],
            "text/plain": [
              "    location   subject  time  value_new\n",
              "492      JPN  EMPLOYEE  2000         33\n",
              "493      JPN  EMPLOYEE  2001         33\n",
              "494      JPN  EMPLOYEE  2002         32\n",
              "495      JPN  EMPLOYEE  2003         31\n",
              "496      JPN  EMPLOYEE  2004         31"
            ]
          },
          "execution_count": 29,
          "metadata": {},
          "output_type": "execute_result"
        }
      ],
      "source": [
        "df_jap.head()"
      ]
    },
    {
      "cell_type": "markdown",
      "metadata": {
        "id": "z-me_4PeIgsE"
      },
      "source": [
        "Disini ditambahkan beberapa kolom yaitu : 'average annual wage','female labour' dan 'total labour' untuk mencari faktor yang dapat menaikkan/improve 'Gap'\n",
        "\n",
        "source : OECD data"
      ]
    },
    {
      "cell_type": "code",
      "execution_count": 31,
      "metadata": {
        "colab": {
          "base_uri": "https://localhost:8080/"
        },
        "id": "9IKa_Hv4IH4j",
        "outputId": "5b553aa0-650b-48f8-dbf8-a41879dd2200"
      },
      "outputs": [
        {
          "name": "stderr",
          "output_type": "stream",
          "text": [
            "<ipython-input-31-3a43ebd0eef8>:1: SettingWithCopyWarning:\n",
            "\n",
            "\n",
            "A value is trying to be set on a copy of a slice from a DataFrame.\n",
            "Try using .loc[row_indexer,col_indexer] = value instead\n",
            "\n",
            "See the caveats in the documentation: https://pandas.pydata.org/pandas-docs/stable/user_guide/indexing.html#returning-a-view-versus-a-copy\n",
            "\n"
          ]
        }
      ],
      "source": [
        "df_jap['ave_wage']=[38364,37982,37228,37254,37233,37882,38879,38849,38742,38448,37950,38085,38699,38057,38103,37438,\n",
        "                    37264,37810,37972,38461,39041,38514]"
      ]
    },
    {
      "cell_type": "code",
      "execution_count": 32,
      "metadata": {
        "colab": {
          "base_uri": "https://localhost:8080/"
        },
        "id": "RPXge4ykIjaK",
        "outputId": "7c5433af-3bb0-488a-d40b-9aa20d5344c0"
      },
      "outputs": [
        {
          "name": "stderr",
          "output_type": "stream",
          "text": [
            "<ipython-input-32-de039040ea6d>:1: SettingWithCopyWarning:\n",
            "\n",
            "\n",
            "A value is trying to be set on a copy of a slice from a DataFrame.\n",
            "Try using .loc[row_indexer,col_indexer] = value instead\n",
            "\n",
            "See the caveats in the documentation: https://pandas.pydata.org/pandas-docs/stable/user_guide/indexing.html#returning-a-view-versus-a-copy\n",
            "\n"
          ]
        }
      ],
      "source": [
        "df_jap['female_labour']=[27525,27603,27335,27326,27320,27369,27497,27612,27679,27707,27820,27828,27700,27693,28095,\n",
        "                       28317,28517,28949,29435,30242,30722,30633]"
      ]
    },
    {
      "cell_type": "code",
      "execution_count": 33,
      "metadata": {
        "colab": {
          "base_uri": "https://localhost:8080/"
        },
        "id": "qNaN_jIzIu_n",
        "outputId": "c329fd47-ad73-4588-bdb6-a9fefa4dc714"
      },
      "outputs": [
        {
          "name": "stderr",
          "output_type": "stream",
          "text": [
            "<ipython-input-33-90dca86a2487>:1: SettingWithCopyWarning:\n",
            "\n",
            "\n",
            "A value is trying to be set on a copy of a slice from a DataFrame.\n",
            "Try using .loc[row_indexer,col_indexer] = value instead\n",
            "\n",
            "See the caveats in the documentation: https://pandas.pydata.org/pandas-docs/stable/user_guide/indexing.html#returning-a-view-versus-a-copy\n",
            "\n"
          ]
        }
      ],
      "source": [
        "df_jap['total_labour']=[67662,67518,66890,66663,66632,66420,66505,66638,66843,66740,66500,66317,65955,65651,65927,\n",
        "                       66087,66250,66785,67323,68491,69121,69022]"
      ]
    },
    {
      "cell_type": "code",
      "execution_count": 34,
      "metadata": {
        "colab": {
          "base_uri": "https://localhost:8080/"
        },
        "id": "5oC3v7s_I3ro",
        "outputId": "c32950d6-9056-4ca6-cd0f-8d4536af361e"
      },
      "outputs": [
        {
          "name": "stderr",
          "output_type": "stream",
          "text": [
            "<ipython-input-34-fba33879acce>:1: SettingWithCopyWarning:\n",
            "\n",
            "\n",
            "A value is trying to be set on a copy of a slice from a DataFrame.\n",
            "Try using .loc[row_indexer,col_indexer] = value instead\n",
            "\n",
            "See the caveats in the documentation: https://pandas.pydata.org/pandas-docs/stable/user_guide/indexing.html#returning-a-view-versus-a-copy\n",
            "\n"
          ]
        }
      ],
      "source": [
        "df_jap['female_labour_ratio']=df_jap['female_labour']/df_jap['total_labour']"
      ]
    },
    {
      "cell_type": "code",
      "execution_count": 36,
      "metadata": {
        "colab": {
          "base_uri": "https://localhost:8080/",
          "height": 739
        },
        "id": "apN_3kZ8I6BG",
        "outputId": "689ebbbb-2496-4edb-acff-1264eefb9966"
      },
      "outputs": [
        {
          "data": {
            "text/html": [
              "\n",
              "  <div id=\"df-8bb63aad-b411-4aec-b716-2e11bc0bf395\">\n",
              "    <div class=\"colab-df-container\">\n",
              "      <div>\n",
              "<style scoped>\n",
              "    .dataframe tbody tr th:only-of-type {\n",
              "        vertical-align: middle;\n",
              "    }\n",
              "\n",
              "    .dataframe tbody tr th {\n",
              "        vertical-align: top;\n",
              "    }\n",
              "\n",
              "    .dataframe thead th {\n",
              "        text-align: right;\n",
              "    }\n",
              "</style>\n",
              "<table border=\"1\" class=\"dataframe\">\n",
              "  <thead>\n",
              "    <tr style=\"text-align: right;\">\n",
              "      <th></th>\n",
              "      <th>location</th>\n",
              "      <th>subject</th>\n",
              "      <th>time</th>\n",
              "      <th>value_new</th>\n",
              "      <th>ave_wage</th>\n",
              "      <th>female_labour</th>\n",
              "      <th>total_labour</th>\n",
              "      <th>female_labour_ratio</th>\n",
              "    </tr>\n",
              "  </thead>\n",
              "  <tbody>\n",
              "    <tr>\n",
              "      <th>492</th>\n",
              "      <td>JPN</td>\n",
              "      <td>EMPLOYEE</td>\n",
              "      <td>2000</td>\n",
              "      <td>33</td>\n",
              "      <td>38364</td>\n",
              "      <td>27525</td>\n",
              "      <td>67662</td>\n",
              "      <td>0.406801</td>\n",
              "    </tr>\n",
              "    <tr>\n",
              "      <th>493</th>\n",
              "      <td>JPN</td>\n",
              "      <td>EMPLOYEE</td>\n",
              "      <td>2001</td>\n",
              "      <td>33</td>\n",
              "      <td>37982</td>\n",
              "      <td>27603</td>\n",
              "      <td>67518</td>\n",
              "      <td>0.408824</td>\n",
              "    </tr>\n",
              "    <tr>\n",
              "      <th>494</th>\n",
              "      <td>JPN</td>\n",
              "      <td>EMPLOYEE</td>\n",
              "      <td>2002</td>\n",
              "      <td>32</td>\n",
              "      <td>37228</td>\n",
              "      <td>27335</td>\n",
              "      <td>66890</td>\n",
              "      <td>0.408656</td>\n",
              "    </tr>\n",
              "    <tr>\n",
              "      <th>495</th>\n",
              "      <td>JPN</td>\n",
              "      <td>EMPLOYEE</td>\n",
              "      <td>2003</td>\n",
              "      <td>31</td>\n",
              "      <td>37254</td>\n",
              "      <td>27326</td>\n",
              "      <td>66663</td>\n",
              "      <td>0.409913</td>\n",
              "    </tr>\n",
              "    <tr>\n",
              "      <th>496</th>\n",
              "      <td>JPN</td>\n",
              "      <td>EMPLOYEE</td>\n",
              "      <td>2004</td>\n",
              "      <td>31</td>\n",
              "      <td>37233</td>\n",
              "      <td>27320</td>\n",
              "      <td>66632</td>\n",
              "      <td>0.410013</td>\n",
              "    </tr>\n",
              "    <tr>\n",
              "      <th>497</th>\n",
              "      <td>JPN</td>\n",
              "      <td>EMPLOYEE</td>\n",
              "      <td>2005</td>\n",
              "      <td>32</td>\n",
              "      <td>37882</td>\n",
              "      <td>27369</td>\n",
              "      <td>66420</td>\n",
              "      <td>0.412060</td>\n",
              "    </tr>\n",
              "    <tr>\n",
              "      <th>498</th>\n",
              "      <td>JPN</td>\n",
              "      <td>EMPLOYEE</td>\n",
              "      <td>2006</td>\n",
              "      <td>32</td>\n",
              "      <td>38879</td>\n",
              "      <td>27497</td>\n",
              "      <td>66505</td>\n",
              "      <td>0.413458</td>\n",
              "    </tr>\n",
              "    <tr>\n",
              "      <th>499</th>\n",
              "      <td>JPN</td>\n",
              "      <td>EMPLOYEE</td>\n",
              "      <td>2007</td>\n",
              "      <td>31</td>\n",
              "      <td>38849</td>\n",
              "      <td>27612</td>\n",
              "      <td>66638</td>\n",
              "      <td>0.414358</td>\n",
              "    </tr>\n",
              "    <tr>\n",
              "      <th>500</th>\n",
              "      <td>JPN</td>\n",
              "      <td>EMPLOYEE</td>\n",
              "      <td>2008</td>\n",
              "      <td>30</td>\n",
              "      <td>38742</td>\n",
              "      <td>27679</td>\n",
              "      <td>66843</td>\n",
              "      <td>0.414090</td>\n",
              "    </tr>\n",
              "    <tr>\n",
              "      <th>501</th>\n",
              "      <td>JPN</td>\n",
              "      <td>EMPLOYEE</td>\n",
              "      <td>2009</td>\n",
              "      <td>28</td>\n",
              "      <td>38448</td>\n",
              "      <td>27707</td>\n",
              "      <td>66740</td>\n",
              "      <td>0.415148</td>\n",
              "    </tr>\n",
              "    <tr>\n",
              "      <th>502</th>\n",
              "      <td>JPN</td>\n",
              "      <td>EMPLOYEE</td>\n",
              "      <td>2010</td>\n",
              "      <td>28</td>\n",
              "      <td>37950</td>\n",
              "      <td>27820</td>\n",
              "      <td>66500</td>\n",
              "      <td>0.418346</td>\n",
              "    </tr>\n",
              "    <tr>\n",
              "      <th>503</th>\n",
              "      <td>JPN</td>\n",
              "      <td>EMPLOYEE</td>\n",
              "      <td>2011</td>\n",
              "      <td>27</td>\n",
              "      <td>38085</td>\n",
              "      <td>27828</td>\n",
              "      <td>66317</td>\n",
              "      <td>0.419621</td>\n",
              "    </tr>\n",
              "    <tr>\n",
              "      <th>504</th>\n",
              "      <td>JPN</td>\n",
              "      <td>EMPLOYEE</td>\n",
              "      <td>2012</td>\n",
              "      <td>26</td>\n",
              "      <td>38699</td>\n",
              "      <td>27700</td>\n",
              "      <td>65955</td>\n",
              "      <td>0.419983</td>\n",
              "    </tr>\n",
              "    <tr>\n",
              "      <th>505</th>\n",
              "      <td>JPN</td>\n",
              "      <td>EMPLOYEE</td>\n",
              "      <td>2013</td>\n",
              "      <td>26</td>\n",
              "      <td>38057</td>\n",
              "      <td>27693</td>\n",
              "      <td>65651</td>\n",
              "      <td>0.421821</td>\n",
              "    </tr>\n",
              "    <tr>\n",
              "      <th>506</th>\n",
              "      <td>JPN</td>\n",
              "      <td>EMPLOYEE</td>\n",
              "      <td>2014</td>\n",
              "      <td>25</td>\n",
              "      <td>38103</td>\n",
              "      <td>28095</td>\n",
              "      <td>65927</td>\n",
              "      <td>0.426153</td>\n",
              "    </tr>\n",
              "    <tr>\n",
              "      <th>507</th>\n",
              "      <td>JPN</td>\n",
              "      <td>EMPLOYEE</td>\n",
              "      <td>2015</td>\n",
              "      <td>25</td>\n",
              "      <td>37438</td>\n",
              "      <td>28317</td>\n",
              "      <td>66087</td>\n",
              "      <td>0.428481</td>\n",
              "    </tr>\n",
              "    <tr>\n",
              "      <th>508</th>\n",
              "      <td>JPN</td>\n",
              "      <td>EMPLOYEE</td>\n",
              "      <td>2016</td>\n",
              "      <td>24</td>\n",
              "      <td>37264</td>\n",
              "      <td>28517</td>\n",
              "      <td>66250</td>\n",
              "      <td>0.430445</td>\n",
              "    </tr>\n",
              "    <tr>\n",
              "      <th>509</th>\n",
              "      <td>JPN</td>\n",
              "      <td>EMPLOYEE</td>\n",
              "      <td>2017</td>\n",
              "      <td>24</td>\n",
              "      <td>37810</td>\n",
              "      <td>28949</td>\n",
              "      <td>66785</td>\n",
              "      <td>0.433466</td>\n",
              "    </tr>\n",
              "    <tr>\n",
              "      <th>510</th>\n",
              "      <td>JPN</td>\n",
              "      <td>EMPLOYEE</td>\n",
              "      <td>2018</td>\n",
              "      <td>23</td>\n",
              "      <td>37972</td>\n",
              "      <td>29435</td>\n",
              "      <td>67323</td>\n",
              "      <td>0.437221</td>\n",
              "    </tr>\n",
              "    <tr>\n",
              "      <th>511</th>\n",
              "      <td>JPN</td>\n",
              "      <td>EMPLOYEE</td>\n",
              "      <td>2019</td>\n",
              "      <td>23</td>\n",
              "      <td>38461</td>\n",
              "      <td>30242</td>\n",
              "      <td>68491</td>\n",
              "      <td>0.441547</td>\n",
              "    </tr>\n",
              "    <tr>\n",
              "      <th>512</th>\n",
              "      <td>JPN</td>\n",
              "      <td>EMPLOYEE</td>\n",
              "      <td>2020</td>\n",
              "      <td>22</td>\n",
              "      <td>39041</td>\n",
              "      <td>30722</td>\n",
              "      <td>69121</td>\n",
              "      <td>0.444467</td>\n",
              "    </tr>\n",
              "    <tr>\n",
              "      <th>513</th>\n",
              "      <td>JPN</td>\n",
              "      <td>EMPLOYEE</td>\n",
              "      <td>2021</td>\n",
              "      <td>22</td>\n",
              "      <td>38514</td>\n",
              "      <td>30633</td>\n",
              "      <td>69022</td>\n",
              "      <td>0.443815</td>\n",
              "    </tr>\n",
              "  </tbody>\n",
              "</table>\n",
              "</div>\n",
              "      <button class=\"colab-df-convert\" onclick=\"convertToInteractive('df-8bb63aad-b411-4aec-b716-2e11bc0bf395')\"\n",
              "              title=\"Convert this dataframe to an interactive table.\"\n",
              "              style=\"display:none;\">\n",
              "        \n",
              "  <svg xmlns=\"http://www.w3.org/2000/svg\" height=\"24px\"viewBox=\"0 0 24 24\"\n",
              "       width=\"24px\">\n",
              "    <path d=\"M0 0h24v24H0V0z\" fill=\"none\"/>\n",
              "    <path d=\"M18.56 5.44l.94 2.06.94-2.06 2.06-.94-2.06-.94-.94-2.06-.94 2.06-2.06.94zm-11 1L8.5 8.5l.94-2.06 2.06-.94-2.06-.94L8.5 2.5l-.94 2.06-2.06.94zm10 10l.94 2.06.94-2.06 2.06-.94-2.06-.94-.94-2.06-.94 2.06-2.06.94z\"/><path d=\"M17.41 7.96l-1.37-1.37c-.4-.4-.92-.59-1.43-.59-.52 0-1.04.2-1.43.59L10.3 9.45l-7.72 7.72c-.78.78-.78 2.05 0 2.83L4 21.41c.39.39.9.59 1.41.59.51 0 1.02-.2 1.41-.59l7.78-7.78 2.81-2.81c.8-.78.8-2.07 0-2.86zM5.41 20L4 18.59l7.72-7.72 1.47 1.35L5.41 20z\"/>\n",
              "  </svg>\n",
              "      </button>\n",
              "      \n",
              "  <style>\n",
              "    .colab-df-container {\n",
              "      display:flex;\n",
              "      flex-wrap:wrap;\n",
              "      gap: 12px;\n",
              "    }\n",
              "\n",
              "    .colab-df-convert {\n",
              "      background-color: #E8F0FE;\n",
              "      border: none;\n",
              "      border-radius: 50%;\n",
              "      cursor: pointer;\n",
              "      display: none;\n",
              "      fill: #1967D2;\n",
              "      height: 32px;\n",
              "      padding: 0 0 0 0;\n",
              "      width: 32px;\n",
              "    }\n",
              "\n",
              "    .colab-df-convert:hover {\n",
              "      background-color: #E2EBFA;\n",
              "      box-shadow: 0px 1px 2px rgba(60, 64, 67, 0.3), 0px 1px 3px 1px rgba(60, 64, 67, 0.15);\n",
              "      fill: #174EA6;\n",
              "    }\n",
              "\n",
              "    [theme=dark] .colab-df-convert {\n",
              "      background-color: #3B4455;\n",
              "      fill: #D2E3FC;\n",
              "    }\n",
              "\n",
              "    [theme=dark] .colab-df-convert:hover {\n",
              "      background-color: #434B5C;\n",
              "      box-shadow: 0px 1px 3px 1px rgba(0, 0, 0, 0.15);\n",
              "      filter: drop-shadow(0px 1px 2px rgba(0, 0, 0, 0.3));\n",
              "      fill: #FFFFFF;\n",
              "    }\n",
              "  </style>\n",
              "\n",
              "      <script>\n",
              "        const buttonEl =\n",
              "          document.querySelector('#df-8bb63aad-b411-4aec-b716-2e11bc0bf395 button.colab-df-convert');\n",
              "        buttonEl.style.display =\n",
              "          google.colab.kernel.accessAllowed ? 'block' : 'none';\n",
              "\n",
              "        async function convertToInteractive(key) {\n",
              "          const element = document.querySelector('#df-8bb63aad-b411-4aec-b716-2e11bc0bf395');\n",
              "          const dataTable =\n",
              "            await google.colab.kernel.invokeFunction('convertToInteractive',\n",
              "                                                     [key], {});\n",
              "          if (!dataTable) return;\n",
              "\n",
              "          const docLinkHtml = 'Like what you see? Visit the ' +\n",
              "            '<a target=\"_blank\" href=https://colab.research.google.com/notebooks/data_table.ipynb>data table notebook</a>'\n",
              "            + ' to learn more about interactive tables.';\n",
              "          element.innerHTML = '';\n",
              "          dataTable['output_type'] = 'display_data';\n",
              "          await google.colab.output.renderOutput(dataTable, element);\n",
              "          const docLink = document.createElement('div');\n",
              "          docLink.innerHTML = docLinkHtml;\n",
              "          element.appendChild(docLink);\n",
              "        }\n",
              "      </script>\n",
              "    </div>\n",
              "  </div>\n",
              "  "
            ],
            "text/plain": [
              "    location   subject  time  value_new  ave_wage  female_labour  \\\n",
              "492      JPN  EMPLOYEE  2000         33     38364          27525   \n",
              "493      JPN  EMPLOYEE  2001         33     37982          27603   \n",
              "494      JPN  EMPLOYEE  2002         32     37228          27335   \n",
              "495      JPN  EMPLOYEE  2003         31     37254          27326   \n",
              "496      JPN  EMPLOYEE  2004         31     37233          27320   \n",
              "497      JPN  EMPLOYEE  2005         32     37882          27369   \n",
              "498      JPN  EMPLOYEE  2006         32     38879          27497   \n",
              "499      JPN  EMPLOYEE  2007         31     38849          27612   \n",
              "500      JPN  EMPLOYEE  2008         30     38742          27679   \n",
              "501      JPN  EMPLOYEE  2009         28     38448          27707   \n",
              "502      JPN  EMPLOYEE  2010         28     37950          27820   \n",
              "503      JPN  EMPLOYEE  2011         27     38085          27828   \n",
              "504      JPN  EMPLOYEE  2012         26     38699          27700   \n",
              "505      JPN  EMPLOYEE  2013         26     38057          27693   \n",
              "506      JPN  EMPLOYEE  2014         25     38103          28095   \n",
              "507      JPN  EMPLOYEE  2015         25     37438          28317   \n",
              "508      JPN  EMPLOYEE  2016         24     37264          28517   \n",
              "509      JPN  EMPLOYEE  2017         24     37810          28949   \n",
              "510      JPN  EMPLOYEE  2018         23     37972          29435   \n",
              "511      JPN  EMPLOYEE  2019         23     38461          30242   \n",
              "512      JPN  EMPLOYEE  2020         22     39041          30722   \n",
              "513      JPN  EMPLOYEE  2021         22     38514          30633   \n",
              "\n",
              "     total_labour  female_labour_ratio  \n",
              "492         67662             0.406801  \n",
              "493         67518             0.408824  \n",
              "494         66890             0.408656  \n",
              "495         66663             0.409913  \n",
              "496         66632             0.410013  \n",
              "497         66420             0.412060  \n",
              "498         66505             0.413458  \n",
              "499         66638             0.414358  \n",
              "500         66843             0.414090  \n",
              "501         66740             0.415148  \n",
              "502         66500             0.418346  \n",
              "503         66317             0.419621  \n",
              "504         65955             0.419983  \n",
              "505         65651             0.421821  \n",
              "506         65927             0.426153  \n",
              "507         66087             0.428481  \n",
              "508         66250             0.430445  \n",
              "509         66785             0.433466  \n",
              "510         67323             0.437221  \n",
              "511         68491             0.441547  \n",
              "512         69121             0.444467  \n",
              "513         69022             0.443815  "
            ]
          },
          "execution_count": 36,
          "metadata": {},
          "output_type": "execute_result"
        }
      ],
      "source": [
        "df_jap"
      ]
    },
    {
      "cell_type": "code",
      "execution_count": 37,
      "metadata": {
        "colab": {
          "base_uri": "https://localhost:8080/",
          "height": 506
        },
        "id": "UEnR_okuI-C9",
        "outputId": "d3c2d514-03ab-4679-ecd6-831e3880a072"
      },
      "outputs": [
        {
          "data": {
            "text/plain": [
              "<matplotlib.axes._subplots.AxesSubplot at 0x7fa7d3a655e0>"
            ]
          },
          "execution_count": 37,
          "metadata": {},
          "output_type": "execute_result"
        },
        {
          "data": {
            "image/png": "[encoded data removed]",
            "text/plain": [
              "<Figure size 1080x576 with 2 Axes>"
            ]
          },
          "metadata": {
            "needs_background": "light"
          },
          "output_type": "display_data"
        }
      ],
      "source": [
        "plt.figure(figsize = (15,8))\n",
        "sns.heatmap(df_jap.corr(), annot=True,fmt='.2f')"
      ]
    },
    {
      "cell_type": "code",
      "execution_count": 38,
      "metadata": {
        "colab": {
          "base_uri": "https://localhost:8080/",
          "height": 1000
        },
        "id": "6zXtd9emJL2N",
        "outputId": "ee3c56d9-d066-4edb-def2-3ad2406041f6"
      },
      "outputs": [
        {
          "data": {
            "text/plain": [
              "<seaborn.axisgrid.PairGrid at 0x7fa7d0f486a0>"
            ]
          },
          "execution_count": 38,
          "metadata": {},
          "output_type": "execute_result"
        },
        {
          "data": {
            "image/png": "[encoded data removed]",
            "text/plain": [
              "<Figure size 1080x1080 with 42 Axes>"
            ]
          },
          "metadata": {
            "needs_background": "light"
          },
          "output_type": "display_data"
        }
      ],
      "source": [
        "sns.pairplot(df_jap)"
      ]
    },
    {
      "cell_type": "markdown",
      "metadata": {
        "id": "JKOOkm5xKTuQ"
      },
      "source": [
        "Salah satu faktor terpenting adalah bagaimana kita dapat meningkatkan jumlah perempuan yang masuk ke dunia kerja.\n",
        "\n",
        "Sebagai langkah selanjutnya, saya mencoba memodelkan single regression analysis antara 'female labour ratio' dan 'value'."
      ]
    },
    {
      "cell_type": "code",
      "execution_count": 39,
      "metadata": {
        "id": "juJ8KtFpKLHb"
      },
      "outputs": [],
      "source": [
        "x = df_jap[['female_labour_ratio']]\n",
        "y = df_jap[['value_new']]"
      ]
    },
    {
      "cell_type": "code",
      "execution_count": 40,
      "metadata": {
        "id": "B3t0sk8dKntN"
      },
      "outputs": [],
      "source": [
        "from sklearn.linear_model import LinearRegression"
      ]
    },
    {
      "cell_type": "code",
      "execution_count": 41,
      "metadata": {
        "colab": {
          "base_uri": "https://localhost:8080/"
        },
        "id": "NhdvQQT2K3Ha",
        "outputId": "9e47bd20-a3d2-47fd-b49d-696468900dcb"
      },
      "outputs": [
        {
          "data": {
            "text/plain": [
              "LinearRegression()"
            ]
          },
          "execution_count": 41,
          "metadata": {},
          "output_type": "execute_result"
        }
      ],
      "source": [
        "model_lr = LinearRegression()\n",
        "model_lr.fit(x, y)"
      ]
    },
    {
      "cell_type": "code",
      "execution_count": 42,
      "metadata": {
        "colab": {
          "base_uri": "https://localhost:8080/"
        },
        "id": "mVnOHtp9K44T",
        "outputId": "1f39583a-4ecb-493d-bcc8-7ab934e3e8ad"
      },
      "outputs": [
        {
          "name": "stdout",
          "output_type": "stream",
          "text": [
            "w1: -299.760\n",
            "w2: 154.063\n",
            "y= -299.760x + 154.063\n",
            "R^2：  0.9042708056782938\n"
          ]
        }
      ],
      "source": [
        "print('w1: %.3f' %model_lr.coef_)\n",
        "print('w2: %.3f' %model_lr.intercept_)\n",
        "print('y= %.3fx + %.3f' % (model_lr.coef_ , model_lr.intercept_))\n",
        "print('R^2： ', model_lr.score(x, y))"
      ]
    },
    {
      "cell_type": "markdown",
      "metadata": {
        "id": "JyqcBvQkLAm5"
      },
      "source": [
        "Jika kita ingin mengurangi Kesenjangan Upah Gender di Jepang menjadi rata-rata OECD 11%, berapa banyak perempuan yang harus bekerja di Jepang?"
      ]
    },
    {
      "cell_type": "code",
      "execution_count": 43,
      "metadata": {
        "colab": {
          "base_uri": "https://localhost:8080/"
        },
        "id": "A_hRffMnK7Fk",
        "outputId": "7112635d-04c1-4e79-b217-7d0018f2ee71"
      },
      "outputs": [
        {
          "data": {
            "text/plain": [
              "0.48013626708896695"
            ]
          },
          "execution_count": 43,
          "metadata": {},
          "output_type": "execute_result"
        }
      ],
      "source": [
        "x=(11-154.063)/-299.760\n",
        "x"
      ]
    },
    {
      "attachments": {},
      "cell_type": "markdown",
      "metadata": {
        "id": "90yOC_k-LJtV"
      },
      "source": [
        "# **Kesimpulan**\n",
        "\n",
        "Kita harus menaikkan 'female_labor_ratio' menjadi 48% untuk mengurangi Kesenjangan Upah Gender di Jepang menjadi Rata-Rata OECD 11%. Artinya kita harus meningkatkan 4% dalam 'female_labor_ratio'. Menurut deret waktu female_labor_ratio antara tahun 2000 hingga 2020, butuh waktu 20 tahun untuk meningkatkan 4% !\n",
        "\n",
        "Female labour harus ditambah sebanyak kurang lebih 3200an pekerja wanita"
      ]
    }
  ],
  "metadata": {
    "colab": {
      "provenance": []
    },
    "kernelspec": {
      "display_name": "Python 3",
      "name": "python3"
    },
    "language_info": {
      "name": "python"
    }
  },
  "nbformat": 4,
  "nbformat_minor": 0
}
